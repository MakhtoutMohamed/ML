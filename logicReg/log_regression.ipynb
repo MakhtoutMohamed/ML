{
 "cells": [
  {
   "cell_type": "code",
   "execution_count": 1,
   "id": "6ced7645",
   "metadata": {},
   "outputs": [],
   "source": [
    "# generate random floating point values\n",
    "from random import seed\n",
    "from random import random\n",
    "# seed random number generator\n",
    "import matplotlib.pyplot as plt\n",
    "import numpy as np\n",
    "import pandas as pnd\n",
    "\n",
    "import matplotlib.colors as clr\n",
    "\n",
    "from sklearn.linear_model import LogisticRegression\n",
    "from sklearn.model_selection import train_test_split\n",
    "from sklearn.metrics import  confusion_matrix, accuracy_score, precision_score, recall_score, f1_score\n"
   ]
  },
  {
   "cell_type": "code",
   "execution_count": 2,
   "id": "c001e877",
   "metadata": {},
   "outputs": [],
   "source": [
    "#data\n",
    "x = np.arange(1,10).reshape(-1, 1)\n",
    "y = np.array([0, 0, 0, 0, 1, 1, 1, 1, 1])\n"
   ]
  },
  {
   "cell_type": "code",
   "execution_count": 3,
   "id": "cc2bca0d",
   "metadata": {},
   "outputs": [
    {
     "data": {
      "text/plain": [
       "(9, 1)"
      ]
     },
     "execution_count": 3,
     "metadata": {},
     "output_type": "execute_result"
    }
   ],
   "source": [
    "x.shape"
   ]
  },
  {
   "cell_type": "code",
   "execution_count": 4,
   "id": "99d64fe7",
   "metadata": {},
   "outputs": [],
   "source": [
    "#libraries\n",
    "from sklearn.linear_model import LogisticRegression\n",
    "import numpy as np\n"
   ]
  },
  {
   "cell_type": "code",
   "execution_count": 5,
   "id": "1a71440e",
   "metadata": {},
   "outputs": [
    {
     "data": {
      "text/html": [
       "<style>#sk-container-id-1 {color: black;}#sk-container-id-1 pre{padding: 0;}#sk-container-id-1 div.sk-toggleable {background-color: white;}#sk-container-id-1 label.sk-toggleable__label {cursor: pointer;display: block;width: 100%;margin-bottom: 0;padding: 0.3em;box-sizing: border-box;text-align: center;}#sk-container-id-1 label.sk-toggleable__label-arrow:before {content: \"▸\";float: left;margin-right: 0.25em;color: #696969;}#sk-container-id-1 label.sk-toggleable__label-arrow:hover:before {color: black;}#sk-container-id-1 div.sk-estimator:hover label.sk-toggleable__label-arrow:before {color: black;}#sk-container-id-1 div.sk-toggleable__content {max-height: 0;max-width: 0;overflow: hidden;text-align: left;background-color: #f0f8ff;}#sk-container-id-1 div.sk-toggleable__content pre {margin: 0.2em;color: black;border-radius: 0.25em;background-color: #f0f8ff;}#sk-container-id-1 input.sk-toggleable__control:checked~div.sk-toggleable__content {max-height: 200px;max-width: 100%;overflow: auto;}#sk-container-id-1 input.sk-toggleable__control:checked~label.sk-toggleable__label-arrow:before {content: \"▾\";}#sk-container-id-1 div.sk-estimator input.sk-toggleable__control:checked~label.sk-toggleable__label {background-color: #d4ebff;}#sk-container-id-1 div.sk-label input.sk-toggleable__control:checked~label.sk-toggleable__label {background-color: #d4ebff;}#sk-container-id-1 input.sk-hidden--visually {border: 0;clip: rect(1px 1px 1px 1px);clip: rect(1px, 1px, 1px, 1px);height: 1px;margin: -1px;overflow: hidden;padding: 0;position: absolute;width: 1px;}#sk-container-id-1 div.sk-estimator {font-family: monospace;background-color: #f0f8ff;border: 1px dotted black;border-radius: 0.25em;box-sizing: border-box;margin-bottom: 0.5em;}#sk-container-id-1 div.sk-estimator:hover {background-color: #d4ebff;}#sk-container-id-1 div.sk-parallel-item::after {content: \"\";width: 100%;border-bottom: 1px solid gray;flex-grow: 1;}#sk-container-id-1 div.sk-label:hover label.sk-toggleable__label {background-color: #d4ebff;}#sk-container-id-1 div.sk-serial::before {content: \"\";position: absolute;border-left: 1px solid gray;box-sizing: border-box;top: 0;bottom: 0;left: 50%;z-index: 0;}#sk-container-id-1 div.sk-serial {display: flex;flex-direction: column;align-items: center;background-color: white;padding-right: 0.2em;padding-left: 0.2em;position: relative;}#sk-container-id-1 div.sk-item {position: relative;z-index: 1;}#sk-container-id-1 div.sk-parallel {display: flex;align-items: stretch;justify-content: center;background-color: white;position: relative;}#sk-container-id-1 div.sk-item::before, #sk-container-id-1 div.sk-parallel-item::before {content: \"\";position: absolute;border-left: 1px solid gray;box-sizing: border-box;top: 0;bottom: 0;left: 50%;z-index: -1;}#sk-container-id-1 div.sk-parallel-item {display: flex;flex-direction: column;z-index: 1;position: relative;background-color: white;}#sk-container-id-1 div.sk-parallel-item:first-child::after {align-self: flex-end;width: 50%;}#sk-container-id-1 div.sk-parallel-item:last-child::after {align-self: flex-start;width: 50%;}#sk-container-id-1 div.sk-parallel-item:only-child::after {width: 0;}#sk-container-id-1 div.sk-dashed-wrapped {border: 1px dashed gray;margin: 0 0.4em 0.5em 0.4em;box-sizing: border-box;padding-bottom: 0.4em;background-color: white;}#sk-container-id-1 div.sk-label label {font-family: monospace;font-weight: bold;display: inline-block;line-height: 1.2em;}#sk-container-id-1 div.sk-label-container {text-align: center;}#sk-container-id-1 div.sk-container {/* jupyter's `normalize.less` sets `[hidden] { display: none; }` but bootstrap.min.css set `[hidden] { display: none !important; }` so we also need the `!important` here to be able to override the default hidden behavior on the sphinx rendered scikit-learn.org. See: https://github.com/scikit-learn/scikit-learn/issues/21755 */display: inline-block !important;position: relative;}#sk-container-id-1 div.sk-text-repr-fallback {display: none;}</style><div id=\"sk-container-id-1\" class=\"sk-top-container\"><div class=\"sk-text-repr-fallback\"><pre>LogisticRegression()</pre><b>In a Jupyter environment, please rerun this cell to show the HTML representation or trust the notebook. <br />On GitHub, the HTML representation is unable to render, please try loading this page with nbviewer.org.</b></div><div class=\"sk-container\" hidden><div class=\"sk-item\"><div class=\"sk-estimator sk-toggleable\"><input class=\"sk-toggleable__control sk-hidden--visually\" id=\"sk-estimator-id-1\" type=\"checkbox\" checked><label for=\"sk-estimator-id-1\" class=\"sk-toggleable__label sk-toggleable__label-arrow\">LogisticRegression</label><div class=\"sk-toggleable__content\"><pre>LogisticRegression()</pre></div></div></div></div></div>"
      ],
      "text/plain": [
       "LogisticRegression()"
      ]
     },
     "execution_count": 5,
     "metadata": {},
     "output_type": "execute_result"
    }
   ],
   "source": [
    "model=LogisticRegression()\n",
    "model.fit(x,y)"
   ]
  },
  {
   "cell_type": "code",
   "execution_count": 6,
   "id": "1df054a1",
   "metadata": {},
   "outputs": [],
   "source": [
    "#pour chaque class, on doit avoir un modèle de classification (bias,w1,w2....) #1-"
   ]
  },
  {
   "cell_type": "code",
   "execution_count": 7,
   "id": "0ad02ca3",
   "metadata": {},
   "outputs": [
    {
     "name": "stdout",
     "output_type": "stream",
     "text": [
      "[-5.29550199]\n"
     ]
    },
    {
     "data": {
      "text/plain": [
       "array([[1.17809125]])"
      ]
     },
     "execution_count": 7,
     "metadata": {},
     "output_type": "execute_result"
    }
   ],
   "source": [
    "print(model.intercept_)\n",
    "model.coef_"
   ]
  },
  {
   "cell_type": "code",
   "execution_count": 8,
   "id": "8c6f4888",
   "metadata": {},
   "outputs": [],
   "source": [
    "def sigmoid(z):\n",
    "    return 1/(1+np.exp(-z))"
   ]
  },
  {
   "cell_type": "code",
   "execution_count": 9,
   "id": "3fde76d0",
   "metadata": {},
   "outputs": [
    {
     "data": {
      "text/plain": [
       "(-5.2955019876514, 1.1780912464363948)"
      ]
     },
     "execution_count": 9,
     "metadata": {},
     "output_type": "execute_result"
    }
   ],
   "source": [
    "bias=model.intercept_[0]\n",
    "w1=model.coef_[0][0]\n",
    "bias,w1"
   ]
  },
  {
   "cell_type": "code",
   "execution_count": 10,
   "id": "a36f45fc",
   "metadata": {},
   "outputs": [],
   "source": [
    "z=bias+w1*x"
   ]
  },
  {
   "cell_type": "code",
   "execution_count": null,
   "id": "fd7b500c",
   "metadata": {},
   "outputs": [],
   "source": []
  },
  {
   "cell_type": "code",
   "execution_count": 11,
   "id": "9e1145d8",
   "metadata": {},
   "outputs": [
    {
     "data": {
      "text/plain": [
       "array([[0.01602563],\n",
       "       [0.05024374],\n",
       "       [0.14663658],\n",
       "       [0.35821109],\n",
       "       [0.64450107],\n",
       "       [0.854836  ],\n",
       "       [0.95031719],\n",
       "       [0.98415966],\n",
       "       [0.99506924]])"
      ]
     },
     "execution_count": 11,
     "metadata": {},
     "output_type": "execute_result"
    }
   ],
   "source": [
    "sigmoid(z)"
   ]
  },
  {
   "cell_type": "code",
   "execution_count": 12,
   "id": "0f6d5003",
   "metadata": {},
   "outputs": [
    {
     "data": {
      "text/plain": [
       "array([0, 1])"
      ]
     },
     "execution_count": 12,
     "metadata": {},
     "output_type": "execute_result"
    }
   ],
   "source": [
    "model.classes_"
   ]
  },
  {
   "cell_type": "code",
   "execution_count": 13,
   "id": "85c244d5",
   "metadata": {},
   "outputs": [
    {
     "data": {
      "text/plain": [
       "array([0, 0, 0, 0, 1, 1, 1, 1, 1])"
      ]
     },
     "execution_count": 13,
     "metadata": {},
     "output_type": "execute_result"
    }
   ],
   "source": [
    "model.predict(x)"
   ]
  },
  {
   "cell_type": "code",
   "execution_count": 14,
   "id": "fd972cab",
   "metadata": {},
   "outputs": [
    {
     "data": {
      "text/plain": [
       "array([0, 0, 0, 0, 1, 1, 1, 1, 1])"
      ]
     },
     "execution_count": 14,
     "metadata": {},
     "output_type": "execute_result"
    }
   ],
   "source": [
    "y"
   ]
  },
  {
   "cell_type": "code",
   "execution_count": 15,
   "id": "da75c8e3",
   "metadata": {},
   "outputs": [
    {
     "data": {
      "text/plain": [
       "array([[0.98397437, 0.01602563],\n",
       "       [0.94975626, 0.05024374],\n",
       "       [0.85336342, 0.14663658],\n",
       "       [0.64178891, 0.35821109],\n",
       "       [0.35549893, 0.64450107],\n",
       "       [0.145164  , 0.854836  ],\n",
       "       [0.04968281, 0.95031719],\n",
       "       [0.01584034, 0.98415966],\n",
       "       [0.00493076, 0.99506924]])"
      ]
     },
     "execution_count": 15,
     "metadata": {},
     "output_type": "execute_result"
    }
   ],
   "source": [
    "model.predict_proba(x)"
   ]
  },
  {
   "cell_type": "code",
   "execution_count": 16,
   "id": "7990283f",
   "metadata": {},
   "outputs": [],
   "source": [
    "def f(x):\n",
    "    return -x+5\n"
   ]
  },
  {
   "cell_type": "code",
   "execution_count": 17,
   "id": "60d62bbf",
   "metadata": {},
   "outputs": [],
   "source": [
    "def generateData(n):    \n",
    "    seed(1)\n",
    "    min=0\n",
    "    max=5\n",
    "    # generate random numbers between 0-1\n",
    "    L=[]\n",
    "    for _ in range(n):\n",
    "        valueX = random()\n",
    "        scaledvalueX = min + (valueX * (max - min))\n",
    "        valueY = random()\n",
    "        scaledvalueY = min + (valueY * (max - min))\n",
    "        x=round(scaledvalueX,1)\n",
    "        y=round(scaledvalueY,1)\n",
    "        y0=f(x)\n",
    "        cl=0\n",
    "        if(y>y0):\n",
    "            cl=1\n",
    "        L.append([x,y,cl])\n",
    "    return L\n"
   ]
  },
  {
   "cell_type": "code",
   "execution_count": 18,
   "id": "7ad3750a",
   "metadata": {},
   "outputs": [],
   "source": [
    "data=generateData(100)\n",
    "data=np.array(data)\n",
    "X1=data[:,0]\n",
    "X2=data[:,1]\n",
    "C=data[:,2]\n"
   ]
  },
  {
   "cell_type": "code",
   "execution_count": 19,
   "id": "5298febc",
   "metadata": {},
   "outputs": [
    {
     "data": {
      "text/plain": [
       "array([0., 1., 0., 1., 0., 1., 0., 1., 1., 0., 0., 1., 0., 0., 0., 0., 0.,\n",
       "       0., 1., 0., 1., 0., 1., 1., 1., 0., 1., 1., 0., 1., 0., 1., 0., 1.,\n",
       "       0., 0., 0., 1., 0., 1., 1., 1., 1., 1., 0., 0., 1., 1., 1., 0., 0.,\n",
       "       0., 0., 0., 1., 1., 0., 0., 1., 1., 1., 0., 0., 0., 0., 0., 0., 0.,\n",
       "       1., 0., 0., 0., 0., 0., 1., 0., 0., 0., 1., 1., 1., 0., 0., 0., 0.,\n",
       "       1., 1., 1., 1., 0., 0., 1., 0., 1., 1., 0., 0., 0., 0., 0.])"
      ]
     },
     "execution_count": 19,
     "metadata": {},
     "output_type": "execute_result"
    }
   ],
   "source": [
    "C"
   ]
  },
  {
   "cell_type": "code",
   "execution_count": 20,
   "id": "c0f2b6c9",
   "metadata": {},
   "outputs": [
    {
     "data": {
      "text/plain": [
       "<matplotlib.collections.PathCollection at 0x7fb354cffd10>"
      ]
     },
     "execution_count": 20,
     "metadata": {},
     "output_type": "execute_result"
    },
    {
     "data": {
      "image/png": "[encoded data removed]",
      "text/plain": [
       "<Figure size 640x480 with 1 Axes>"
      ]
     },
     "metadata": {},
     "output_type": "display_data"
    }
   ],
   "source": [
    "colors = ['red','blue']\n",
    "plt.scatter(X1,X2,c=C,cmap=clr.ListedColormap(colors))\n"
   ]
  },
  {
   "cell_type": "code",
   "execution_count": 21,
   "id": "db78d19b",
   "metadata": {},
   "outputs": [],
   "source": [
    "X=data[:,:2]\n",
    "y=data[:,2]\n",
    "X_train, X_test, y_train, y_test = train_test_split(X, y, test_size=0.2)\n"
   ]
  },
  {
   "cell_type": "code",
   "execution_count": 22,
   "id": "c92e6ae8",
   "metadata": {},
   "outputs": [
    {
     "data": {
      "text/plain": [
       "array([0., 1., 0., 1., 0., 1., 0., 1., 1., 0., 0., 1., 0., 0., 0., 0., 0.,\n",
       "       0., 1., 0., 1., 0., 1., 1., 1., 0., 1., 1., 0., 1., 0., 1., 0., 1.,\n",
       "       0., 0., 0., 1., 0., 1., 1., 1., 1., 1., 0., 0., 1., 1., 1., 0., 0.,\n",
       "       0., 0., 0., 1., 1., 0., 0., 1., 1., 1., 0., 0., 0., 0., 0., 0., 0.,\n",
       "       1., 0., 0., 0., 0., 0., 1., 0., 0., 0., 1., 1., 1., 0., 0., 0., 0.,\n",
       "       1., 1., 1., 1., 0., 0., 1., 0., 1., 1., 0., 0., 0., 0., 0.])"
      ]
     },
     "execution_count": 22,
     "metadata": {},
     "output_type": "execute_result"
    }
   ],
   "source": [
    "y"
   ]
  },
  {
   "cell_type": "code",
   "execution_count": 23,
   "id": "37346cfb",
   "metadata": {},
   "outputs": [
    {
     "data": {
      "text/html": [
       "<style>#sk-container-id-2 {color: black;}#sk-container-id-2 pre{padding: 0;}#sk-container-id-2 div.sk-toggleable {background-color: white;}#sk-container-id-2 label.sk-toggleable__label {cursor: pointer;display: block;width: 100%;margin-bottom: 0;padding: 0.3em;box-sizing: border-box;text-align: center;}#sk-container-id-2 label.sk-toggleable__label-arrow:before {content: \"▸\";float: left;margin-right: 0.25em;color: #696969;}#sk-container-id-2 label.sk-toggleable__label-arrow:hover:before {color: black;}#sk-container-id-2 div.sk-estimator:hover label.sk-toggleable__label-arrow:before {color: black;}#sk-container-id-2 div.sk-toggleable__content {max-height: 0;max-width: 0;overflow: hidden;text-align: left;background-color: #f0f8ff;}#sk-container-id-2 div.sk-toggleable__content pre {margin: 0.2em;color: black;border-radius: 0.25em;background-color: #f0f8ff;}#sk-container-id-2 input.sk-toggleable__control:checked~div.sk-toggleable__content {max-height: 200px;max-width: 100%;overflow: auto;}#sk-container-id-2 input.sk-toggleable__control:checked~label.sk-toggleable__label-arrow:before {content: \"▾\";}#sk-container-id-2 div.sk-estimator input.sk-toggleable__control:checked~label.sk-toggleable__label {background-color: #d4ebff;}#sk-container-id-2 div.sk-label input.sk-toggleable__control:checked~label.sk-toggleable__label {background-color: #d4ebff;}#sk-container-id-2 input.sk-hidden--visually {border: 0;clip: rect(1px 1px 1px 1px);clip: rect(1px, 1px, 1px, 1px);height: 1px;margin: -1px;overflow: hidden;padding: 0;position: absolute;width: 1px;}#sk-container-id-2 div.sk-estimator {font-family: monospace;background-color: #f0f8ff;border: 1px dotted black;border-radius: 0.25em;box-sizing: border-box;margin-bottom: 0.5em;}#sk-container-id-2 div.sk-estimator:hover {background-color: #d4ebff;}#sk-container-id-2 div.sk-parallel-item::after {content: \"\";width: 100%;border-bottom: 1px solid gray;flex-grow: 1;}#sk-container-id-2 div.sk-label:hover label.sk-toggleable__label {background-color: #d4ebff;}#sk-container-id-2 div.sk-serial::before {content: \"\";position: absolute;border-left: 1px solid gray;box-sizing: border-box;top: 0;bottom: 0;left: 50%;z-index: 0;}#sk-container-id-2 div.sk-serial {display: flex;flex-direction: column;align-items: center;background-color: white;padding-right: 0.2em;padding-left: 0.2em;position: relative;}#sk-container-id-2 div.sk-item {position: relative;z-index: 1;}#sk-container-id-2 div.sk-parallel {display: flex;align-items: stretch;justify-content: center;background-color: white;position: relative;}#sk-container-id-2 div.sk-item::before, #sk-container-id-2 div.sk-parallel-item::before {content: \"\";position: absolute;border-left: 1px solid gray;box-sizing: border-box;top: 0;bottom: 0;left: 50%;z-index: -1;}#sk-container-id-2 div.sk-parallel-item {display: flex;flex-direction: column;z-index: 1;position: relative;background-color: white;}#sk-container-id-2 div.sk-parallel-item:first-child::after {align-self: flex-end;width: 50%;}#sk-container-id-2 div.sk-parallel-item:last-child::after {align-self: flex-start;width: 50%;}#sk-container-id-2 div.sk-parallel-item:only-child::after {width: 0;}#sk-container-id-2 div.sk-dashed-wrapped {border: 1px dashed gray;margin: 0 0.4em 0.5em 0.4em;box-sizing: border-box;padding-bottom: 0.4em;background-color: white;}#sk-container-id-2 div.sk-label label {font-family: monospace;font-weight: bold;display: inline-block;line-height: 1.2em;}#sk-container-id-2 div.sk-label-container {text-align: center;}#sk-container-id-2 div.sk-container {/* jupyter's `normalize.less` sets `[hidden] { display: none; }` but bootstrap.min.css set `[hidden] { display: none !important; }` so we also need the `!important` here to be able to override the default hidden behavior on the sphinx rendered scikit-learn.org. See: https://github.com/scikit-learn/scikit-learn/issues/21755 */display: inline-block !important;position: relative;}#sk-container-id-2 div.sk-text-repr-fallback {display: none;}</style><div id=\"sk-container-id-2\" class=\"sk-top-container\"><div class=\"sk-text-repr-fallback\"><pre>LogisticRegression()</pre><b>In a Jupyter environment, please rerun this cell to show the HTML representation or trust the notebook. <br />On GitHub, the HTML representation is unable to render, please try loading this page with nbviewer.org.</b></div><div class=\"sk-container\" hidden><div class=\"sk-item\"><div class=\"sk-estimator sk-toggleable\"><input class=\"sk-toggleable__control sk-hidden--visually\" id=\"sk-estimator-id-2\" type=\"checkbox\" checked><label for=\"sk-estimator-id-2\" class=\"sk-toggleable__label sk-toggleable__label-arrow\">LogisticRegression</label><div class=\"sk-toggleable__content\"><pre>LogisticRegression()</pre></div></div></div></div></div>"
      ],
      "text/plain": [
       "LogisticRegression()"
      ]
     },
     "execution_count": 23,
     "metadata": {},
     "output_type": "execute_result"
    }
   ],
   "source": [
    "model=LogisticRegression()\n",
    "\n",
    "model.fit(X_train,y_train)\n"
   ]
  },
  {
   "cell_type": "code",
   "execution_count": 24,
   "id": "60081d75",
   "metadata": {},
   "outputs": [],
   "source": [
    "bias=model.intercept_[0]"
   ]
  },
  {
   "cell_type": "code",
   "execution_count": 25,
   "id": "421ec9db",
   "metadata": {},
   "outputs": [],
   "source": [
    "w1,w2=model.coef_[0][0],model.coef_[0][1]"
   ]
  },
  {
   "cell_type": "code",
   "execution_count": 26,
   "id": "f92238c7",
   "metadata": {},
   "outputs": [
    {
     "data": {
      "text/plain": [
       "(-11.54734129881503, 2.2273317121501206, 2.132776462319896)"
      ]
     },
     "execution_count": 26,
     "metadata": {},
     "output_type": "execute_result"
    }
   ],
   "source": [
    "bias,w1,w2"
   ]
  },
  {
   "cell_type": "code",
   "execution_count": 27,
   "id": "fe392ac5",
   "metadata": {},
   "outputs": [],
   "source": [
    "yhat=model.predict(X_test)\n"
   ]
  },
  {
   "cell_type": "code",
   "execution_count": 28,
   "id": "a1d42761",
   "metadata": {},
   "outputs": [],
   "source": [
    "cm = confusion_matrix(y_test, yhat) #evaluation – confusion matrix\n"
   ]
  },
  {
   "cell_type": "code",
   "execution_count": 29,
   "id": "cdbfc260",
   "metadata": {},
   "outputs": [],
   "source": [
    "#evaluation – metrics\n",
    "cm = confusion_matrix(y_test, yhat)\n",
    "accuracy = accuracy_score (y_test, yhat)\n",
    "precision = precision_score(y_test, yhat)\n",
    "recall = recall_score(y_test, yhat)\n",
    "f1 = f1_score(y_test, yhat)\n"
   ]
  },
  {
   "cell_type": "code",
   "execution_count": 30,
   "id": "07447601",
   "metadata": {},
   "outputs": [
    {
     "ename": "NameError",
     "evalue": "name 'ax' is not defined",
     "output_type": "error",
     "traceback": [
      "\u001b[0;31m---------------------------------------------------------------------------\u001b[0m",
      "\u001b[0;31mNameError\u001b[0m                                 Traceback (most recent call last)",
      "Cell \u001b[0;32mIn[30], line 1\u001b[0m\n\u001b[0;32m----> 1\u001b[0m Y\u001b[38;5;241m=\u001b[39m\u001b[43max\u001b[49m\u001b[38;5;241m+\u001b[39mb\n",
      "\u001b[0;31mNameError\u001b[0m: name 'ax' is not defined"
     ]
    }
   ],
   "source": [
    "Y=ax+b"
   ]
  },
  {
   "cell_type": "code",
   "execution_count": null,
   "id": "bcadd21c",
   "metadata": {},
   "outputs": [],
   "source": [
    "w1*x1+w2*x2+bias=0\n",
    "w2*x2=-bias-w1*x1\n",
    "x2=-bias/w2-(w1/w2)*x1"
   ]
  },
  {
   "cell_type": "code",
   "execution_count": null,
   "id": "86d76da2",
   "metadata": {},
   "outputs": [],
   "source": [
    "#pour tracer la droite qui représente le modèle\n",
    "def getY (x1):\n",
    "    return -w1/w2*x1-bias/w2\n",
    " \n"
   ]
  },
  {
   "cell_type": "code",
   "execution_count": null,
   "id": "aceb0144",
   "metadata": {},
   "outputs": [],
   "source": []
  },
  {
   "cell_type": "code",
   "execution_count": null,
   "id": "45cddb34",
   "metadata": {},
   "outputs": [],
   "source": [
    "bias=model.intercept_[0]\n",
    "w1,w2=model.coef_[0][0],model.coef_[0][1]"
   ]
  },
  {
   "cell_type": "code",
   "execution_count": null,
   "id": "4162bf6d",
   "metadata": {},
   "outputs": [],
   "source": [
    "y5=getY(np.array([-1,7]))"
   ]
  },
  {
   "cell_type": "code",
   "execution_count": null,
   "id": "3ffe45f2",
   "metadata": {},
   "outputs": [],
   "source": [
    "y5"
   ]
  },
  {
   "cell_type": "code",
   "execution_count": null,
   "id": "e7836ac1",
   "metadata": {},
   "outputs": [],
   "source": [
    "colors = ['red','blue']\n",
    "plt.scatter(X1,X2,c=C,cmap=clr.ListedColormap(colors))\n",
    "plt.plot(np.array([-1,7]),y5,color=\"g\")\n"
   ]
  },
  {
   "cell_type": "code",
   "execution_count": null,
   "id": "ff1e197b",
   "metadata": {},
   "outputs": [],
   "source": [
    "yhat=model.predict(X_test)"
   ]
  },
  {
   "cell_type": "code",
   "execution_count": null,
   "id": "5eecedd5",
   "metadata": {},
   "outputs": [],
   "source": [
    "yhat"
   ]
  },
  {
   "cell_type": "code",
   "execution_count": null,
   "id": "da07fc12",
   "metadata": {},
   "outputs": [],
   "source": [
    "y_test"
   ]
  },
  {
   "cell_type": "code",
   "execution_count": null,
   "id": "02b538ca",
   "metadata": {},
   "outputs": [],
   "source": []
  },
  {
   "cell_type": "code",
   "execution_count": null,
   "id": "353b37d8",
   "metadata": {},
   "outputs": [],
   "source": [
    "x_points=np.array([0,5])\n",
    "y_points=getY(x_points)\n"
   ]
  },
  {
   "cell_type": "code",
   "execution_count": null,
   "id": "31a18c90",
   "metadata": {},
   "outputs": [],
   "source": [
    "colors = ['red','blue']\n",
    "plt.scatter(X1,X2,c=y,cmap=clr.ListedColormap(colors))\n",
    "plt.scatter(X_test[:,0],X_test[:,1],color=\"black\")\n",
    "plt.plot(x_points,y_points)\n"
   ]
  },
  {
   "cell_type": "markdown",
   "id": "680af298",
   "metadata": {},
   "source": [
    "<h1>Diabetes</h1>"
   ]
  },
  {
   "cell_type": "code",
   "execution_count": null,
   "id": "a0747f0e",
   "metadata": {},
   "outputs": [],
   "source": [
    "dataset =pnd.read_csv('diabetes.csv')#import"
   ]
  },
  {
   "cell_type": "code",
   "execution_count": null,
   "id": "d3c52a89",
   "metadata": {},
   "outputs": [],
   "source": [
    "dataset.info()"
   ]
  },
  {
   "cell_type": "code",
   "execution_count": null,
   "id": "256a52a0",
   "metadata": {},
   "outputs": [],
   "source": [
    "X = dataset.drop(columns=['Outcome']) #features\n",
    "y = dataset['Outcome'] #target"
   ]
  },
  {
   "cell_type": "code",
   "execution_count": null,
   "id": "0ba26574",
   "metadata": {},
   "outputs": [],
   "source": [
    "X_train, X_test, y_train, y_test = train_test_split(X, y, test_size=0.2, random_state=33)"
   ]
  },
  {
   "cell_type": "code",
   "execution_count": null,
   "id": "fb86f393",
   "metadata": {},
   "outputs": [],
   "source": [
    "model=LogisticRegression()\n",
    "model.fit(X_train,y_train)"
   ]
  },
  {
   "cell_type": "code",
   "execution_count": null,
   "id": "daeeaac2",
   "metadata": {},
   "outputs": [],
   "source": [
    "yhat=model.predict(X_test)"
   ]
  },
  {
   "cell_type": "code",
   "execution_count": null,
   "id": "f2dda352",
   "metadata": {},
   "outputs": [],
   "source": [
    "cm=confusion_matrix(y_test,yhat)\n",
    "TN, FP, FN, TP = cm.ravel()\n",
    "print(f'True Positive (TP): {TP}')\n",
    "print(f'True Negative (TN): {TN}')\n",
    "print(f'False Positive (FP): {FP}')\n",
    "print(f'False Negative (FN): {FN}')\n",
    "accuracy=(TP+TN)/(TP+TN+FN+FP)"
   ]
  },
  {
   "cell_type": "code",
   "execution_count": null,
   "id": "f050f5b7",
   "metadata": {},
   "outputs": [],
   "source": [
    "accuracy = accuracy_score (y_test, yhat)\n",
    "precision = precision_score(y_test, yhat)\n",
    "recall = recall_score(y_test, yhat)\n",
    "f1_scr = f1_score(y_test, yhat)\n",
    "\n",
    "print(f'accuracy: {accuracy}')\n",
    "print(f'precision: {precision}')\n",
    "print(f'recall: {recall}')\n",
    "print(f'f1_score: {f1_scr}')\n"
   ]
  },
  {
   "cell_type": "markdown",
   "id": "9981393d",
   "metadata": {},
   "source": [
    "<h1>form scratch</h1>"
   ]
  },
  {
   "cell_type": "code",
   "execution_count": null,
   "id": "ff542477-3275-4736-9aaa-ffc3d9892fd9",
   "metadata": {},
   "outputs": [],
   "source": [
    "X=data[:,:2]\n",
    "y=data[:,2]\n",
    "X_train,X_test,y_train,y_test=train_test_split(X,y,test_size=0.2)"
   ]
  },
  {
   "cell_type": "code",
   "execution_count": null,
   "id": "f4f17612-cb94-4904-91e7-973ee102f74a",
   "metadata": {},
   "outputs": [],
   "source": [
    "X1=X_test[:,0]\n",
    "X2=X_test[:,1]"
   ]
  },
  {
   "cell_type": "code",
   "execution_count": null,
   "id": "0479939f",
   "metadata": {},
   "outputs": [],
   "source": [
    "def sigmoid(z):\n",
    "    return 1/(1+np.exp(-z))"
   ]
  },
  {
   "cell_type": "code",
   "execution_count": 34,
   "id": "d135b6eb",
   "metadata": {},
   "outputs": [
    {
     "name": "stdout",
     "output_type": "stream",
     "text": [
      "17.544172259409823\n",
      "16.896506325867303\n",
      "16.23916092499937\n",
      "15.577067250424594\n",
      "14.91530921536265\n",
      "14.25893872453577\n",
      "13.612793728521055\n",
      "12.981334057735967\n",
      "12.368507484524365\n",
      "11.777654281069633\n",
      "11.211453608955248\n",
      "10.671910335144034\n",
      "10.160377077218918\n",
      "9.677603863130999\n",
      "9.223806814910427\n",
      "8.798747518186039\n",
      "8.401815851172628\n",
      "8.032110617631563\n",
      "7.688514014407035\n",
      "7.3697575216233835\n",
      "7.0744780941230845\n",
      "6.801264505595573\n",
      "6.548694362199203\n",
      "6.315362704776749\n",
      "6.099903316115902\n",
      "5.901003900150239\n",
      "5.717416253994161\n",
      "5.547962451165805\n",
      "5.391537924501609\n",
      "5.247112200008337\n",
      "5.113727900731807\n",
      "4.990498519674251\n",
      "4.876605356101699\n",
      "4.771293921022263\n",
      "4.673870044480445\n",
      "4.583695858102625\n",
      "4.500185779207954\n",
      "4.422802585873959\n",
      "4.3510536438314675\n",
      "4.284487324362188\n",
      "4.222689636107808\n",
      "4.165281081717024\n",
      "4.111913741605821\n",
      "4.0622685810186985\n",
      "4.016052972440019\n",
      "3.9729984227314894\n",
      "3.932858492785352\n",
      "3.8954068966903392\n",
      "3.8604357671844256\n",
      "3.8277540743438374\n",
      "3.7971861849034334\n",
      "3.768570550223318\n",
      "3.7417585116400733\n",
      "3.716613212716892\n",
      "3.6930086086986678\n",
      "3.670828564260399\n",
      "3.649966031392633\n",
      "3.630322299985472\n",
      "3.611806314345951\n",
      "3.594334049509393\n",
      "3.577827941782561\n",
      "3.5622163684856076\n",
      "3.5474331723429025\n",
      "3.533417226411867\n",
      "3.520112035837103\n",
      "3.5074653730770593\n",
      "3.495428943575446\n",
      "3.4839580791425195\n",
      "3.4730114565751338\n",
      "3.462550839281809\n",
      "3.452540839892432\n",
      "3.442948702024188\n",
      "3.4337440995478654\n",
      "3.4248989518538\n",
      "3.416387253756298\n",
      "3.408184918800946\n",
      "3.4002696348522763\n",
      "3.3926207309410743\n",
      "3.385219054442417\n",
      "3.3780468577383305\n",
      "3.371087693593741\n",
      "3.3643263185419494\n",
      "3.3577486036368995\n",
      "3.351341451984925\n",
      "3.3450927225186784\n",
      "3.3389911595214743\n",
      "3.3330263274514658\n",
      "3.3271885506527\n",
      "3.321468857574031\n",
      "3.3158589291481\n",
      "3.310351051010766\n",
      "3.3049380692672603\n",
      "3.2996133495348587\n",
      "3.29437073901344\n",
      "3.289204531354951\n",
      "3.284109434120889\n",
      "3.279080538633337\n",
      "3.274113292040316\n",
      "3.269203471430067\n",
      "3.2643471598415803\n",
      "3.2595407240305168\n",
      "3.2547807938602937\n",
      "3.250064243198146\n",
      "3.2453881722049633\n",
      "3.24074989091622\n",
      "3.2361469040189395\n",
      "3.2315768967368528\n",
      "3.227037721742378\n",
      "3.2225273870202744\n",
      "3.2180440446132454\n",
      "3.213585980185056\n",
      "3.2091516033414536\n",
      "3.2047394386536285\n",
      "3.200348117332957\n",
      "3.195976369509643\n",
      "3.1916230170712727\n",
      "3.1872869670205812\n",
      "3.1829672053146565\n",
      "3.1786627911506375\n",
      "3.174372851665478\n",
      "3.1700965770197027\n",
      "3.1658332158373117\n",
      "3.1615820709760074\n",
      "3.1573424956037837\n",
      "3.153113889559668\n",
      "3.14889569597804\n",
      "3.144687398157407\n",
      "3.1404885166559593\n",
      "3.1362986065974487\n",
      "3.132117255172181\n",
      "3.1279440793189797\n",
      "3.123778723575033\n",
      "3.119620858081463\n",
      "3.11547017673333\n",
      "3.111326395463644\n",
      "3.107189250651652\n",
      "3.1030584976464333\n",
      "3.098933909397431\n",
      "3.094815275184194\n",
      "3.090702399438142\n",
      "3.0865951006496917\n",
      "3.0824932103545564\n",
      "3.0783965721935025\n",
      "3.074305041040227\n",
      "3.0702184821924323\n",
      "3.0661367706215206\n",
      "3.0620597902766593\n",
      "3.0579874334392763\n",
      "3.053919600124341\n",
      "3.049856197525036\n",
      "3.0457971394976644\n",
      "3.041742346083907\n",
      "3.037691743067677\n",
      "3.0336452615641143\n",
      "3.0296028376383575\n",
      "3.0255644119519327\n",
      "3.021529929434781\n",
      "3.017499338981042\n",
      "3.013472593166883\n",
      "3.009449647988767\n",
      "3.005430462620686\n",
      "3.0014149991889703\n",
      "2.997403222563415\n",
      "2.9933951001635277\n",
      "2.9893906017787932\n",
      "2.9853896994019657\n",
      "2.9813923670744025\n",
      "2.977398580742604\n",
      "2.973408318125125\n",
      "2.969421558589097\n",
      "2.965438283035683\n",
      "2.9614584737938126\n",
      "2.957482114521573\n",
      "2.9535091901147346\n",
      "2.9495396866218604\n",
      "2.94557359116555\n",
      "2.9416108918693338\n",
      "2.9376515777898646\n",
      "2.9336956388539535\n",
      "2.9297430658001513\n",
      "2.925793850124517\n",
      "2.9218479840302827\n",
      "2.9179054603811228\n",
      "2.9139662726577638\n",
      "2.9100304149177063\n",
      "2.9060978817578174\n",
      "2.902168668279585\n",
      "2.898242770056858\n",
      "2.8943201831058682\n",
      "2.8904009038573784\n",
      "2.886484929130816\n",
      "2.8825722561102247\n",
      "2.8786628823219\n",
      "2.874756805613624\n",
      "2.870854024135331\n",
      "2.8669545363211446\n",
      "2.8630583408726538\n",
      "2.859165436743358\n",
      "2.8552758231241953\n",
      "2.8513894994300553\n",
      "2.84750646528723\n",
      "2.843626720521723\n",
      "2.839750265148353\n",
      "2.8358770993605913\n",
      "2.832007223521096\n",
      "2.8281406381528758\n",
      "2.824277343931042\n",
      "2.820417341675105\n",
      "2.81656063234179\n",
      "2.8127072170183047\n",
      "2.8088570969160553\n",
      "2.805010273364773\n",
      "2.801166747806994\n",
      "2.797326521792911\n",
      "2.7934895969755376\n",
      "2.7896559751061627\n",
      "2.7858256580301055\n",
      "2.781998647682709\n",
      "2.7781749460855796\n",
      "2.7743545553430513\n",
      "2.770537477638858\n",
      "2.766723715232983\n",
      "2.7629132704587063\n",
      "2.7591061457198047\n",
      "2.7553023434879047\n",
      "2.7515018662999844\n",
      "2.7477047167560027\n",
      "2.7439108975166473\n",
      "2.740120411301216\n",
      "2.7363332608855746\n",
      "2.732549449100242\n",
      "2.7287689788285414\n",
      "2.7249918530048625\n",
      "2.721218074612981\n",
      "2.7174476466844606\n",
      "2.7136805722971284\n",
      "2.70991685457361\n",
      "2.706156496679916\n",
      "2.7023995018241056\n",
      "2.698645873254974\n",
      "2.69489561426081\n",
      "2.6911487281681907\n",
      "2.687405218340814\n",
      "2.6836650881783846\n",
      "2.679928341115509\n",
      "2.6761949806206604\n",
      "2.672465010195152\n",
      "2.6687384333721402\n",
      "2.665015253715666\n",
      "2.661295474819724\n",
      "2.657579100307339\n",
      "2.653866133829686\n",
      "2.6501565790652197\n",
      "2.6464504397188287\n",
      "2.6427477195210134\n",
      "2.6390484222270647\n",
      "2.6353525516162866\n",
      "2.6316601114912097\n",
      "2.6279711056768367\n",
      "2.624285538019891\n",
      "2.6206034123880975\n",
      "2.6169247326694394\n",
      "2.613249502771481\n",
      "2.6095777266206515\n",
      "2.605909408161563\n",
      "2.602244551356347\n",
      "2.598583160183982\n",
      "2.5949252386396475\n",
      "2.5912707907340726\n",
      "2.5876198204929057\n",
      "2.5839723319560854\n",
      "2.580328329177224\n",
      "2.5766878162229956\n",
      "2.5730507971725314\n",
      "2.569417276116831\n",
      "2.565787257158167\n",
      "2.562160744409504\n",
      "2.5585377419939284\n",
      "2.5549182540440736\n",
      "2.551302284701566\n",
      "2.5476898381164625\n",
      "2.5440809184467037\n",
      "2.540475529857568\n",
      "2.536873676521134\n",
      "2.5332753626157483\n",
      "2.5296805923254992\n",
      "2.5260893698396902\n",
      "2.5225016993523286\n",
      "2.51891758506161\n",
      "2.515337031169412\n",
      "2.511760041880795\n",
      "2.508186621403508\n",
      "2.504616773947485\n",
      "2.5010505037243718\n",
      "2.497487814947033\n",
      "2.4939287118290827\n",
      "2.490373198584405\n",
      "2.486821279426687\n",
      "2.4832729585689566\n",
      "2.4797282402231193\n",
      "2.4761871285995056\n",
      "2.472649627906422\n",
      "2.469115742349693\n",
      "2.4655854761322367\n",
      "2.4620588334536087\n",
      "2.4585358185095827\n",
      "2.455016435491711\n",
      "2.451500688586897\n",
      "2.447988581976988\n",
      "2.4444801198383397\n",
      "2.440975306341419\n",
      "2.4374741456503797\n",
      "2.433976641922669\n",
      "2.430482799308619\n",
      "2.4269926219510567\n",
      "2.4235061139848977\n",
      "2.4200232795367724\n",
      "2.416544122724628\n",
      "2.4130686476573544\n",
      "2.4095968584344045\n",
      "2.406128759145415\n",
      "2.402664353869845\n",
      "2.3992036466766042\n",
      "2.395746641623692\n",
      "2.39229334275784\n",
      "2.388843754114151\n",
      "2.3853978797157604\n",
      "2.3819557235734745\n",
      "2.378517289685437\n",
      "2.375082582036785\n",
      "2.371651604599313\n",
      "2.3682243613311402\n",
      "2.364800856176387\n",
      "2.3613810930648365\n",
      "2.3579650759116304\n",
      "2.3545528086169365\n",
      "2.3511442950656427\n",
      "2.347739539127042\n",
      "2.344338544654529\n",
      "2.340941315485293\n",
      "2.337547855440019\n",
      "2.334158168322595\n",
      "2.330772257919811\n",
      "2.327390128001074\n",
      "2.3240117823181317\n",
      "2.320637224604767\n",
      "2.317266458576542\n",
      "2.313899487930514\n",
      "2.310536316344953\n",
      "2.307176947479094\n",
      "2.303821384972854\n",
      "2.300469632446577\n",
      "2.297121693500778\n",
      "2.293777571715881\n",
      "2.290437270651976\n",
      "2.2871007938485617\n",
      "2.2837681448243043\n",
      "2.280439327076804\n",
      "2.2771143440823383\n",
      "2.273793199295642\n",
      "2.2704758961496703\n",
      "2.2671624380553683\n",
      "2.263852828401452\n",
      "2.2605470705541744\n",
      "2.257245167857119\n",
      "2.253947123630979\n",
      "2.2506529411733402\n",
      "2.2473626237584803\n",
      "2.2440761746371516\n",
      "2.240793597036391\n",
      "2.2375148941593075\n",
      "2.234240069184894\n",
      "2.230969125267828\n",
      "2.227702065538283\n",
      "2.224438893101744\n",
      "2.221179611038811\n",
      "2.2179242224050326\n",
      "2.2146727302307188\n",
      "2.211425137520766\n",
      "2.2081814472544834\n",
      "2.204941662385426\n",
      "2.2017057858412263\n",
      "2.198473820523428\n",
      "2.1952457693073324\n",
      "2.1920216350418316\n",
      "2.188801420549256\n",
      "2.185585128625225\n",
      "2.1823727620384945\n",
      "2.179164323530809\n",
      "2.1759598158167637\n",
      "2.1727592415836554\n",
      "2.169562603491349\n",
      "2.1663699041721425\n",
      "2.1631811462306314\n",
      "2.159996332243579\n",
      "2.156815464759792\n",
      "2.153638546299991\n",
      "2.150465579356693\n",
      "2.147296566394093\n",
      "2.144131509847938\n",
      "2.140970412125428\n",
      "2.137813275605088\n",
      "2.134660102636674\n",
      "2.131510895541056\n",
      "2.1283656566101197\n",
      "2.1252243881066657\n",
      "2.122087092264311\n",
      "2.1189537712873854\n",
      "2.115824427350851\n",
      "2.1126990626002\n",
      "2.109577679151371\n",
      "2.106460279090664\n",
      "2.1033468644746534\n",
      "2.100237437330109\n",
      "2.097131999653915\n",
      "2.094030553412999\n",
      "2.0909331005442486\n",
      "2.0878396429544477\n",
      "2.084750182520205\n",
      "2.0816647210878845\n",
      "2.0785832604735432\n",
      "2.0755058024628688\n",
      "2.0724323488111174\n",
      "2.0693629012430557\n",
      "2.0662974614529097\n",
      "2.0632360311043043\n",
      "2.0601786118302168\n",
      "2.057125205232927\n",
      "2.05407581288397\n",
      "2.0510304363240897\n",
      "2.0479890770631966\n",
      "2.0449517365803316\n",
      "2.0419184163236213\n",
      "2.038889117710249\n",
      "2.0358638421264112\n",
      "2.032842590927292\n",
      "2.0298253654370337\n",
      "2.0268121669487016\n",
      "2.023802996724267\n",
      "2.0207978559945783\n",
      "2.0177967459593353\n",
      "2.0147996677870776\n",
      "2.011806622615158\n",
      "2.0088176115497363\n",
      "2.00583263566575\n",
      "2.002851696006914\n",
      "1.9998747935857093\n",
      "1.9969019293833687\n",
      "1.9939331043498727\n",
      "1.9909683194039425\n",
      "1.9880075754330424\n",
      "1.9850508732933716\n",
      "1.982098213809869\n",
      "1.9791495977762097\n",
      "1.9762050259548205\n",
      "1.9732644990768713\n",
      "1.9703280178422897\n",
      "1.967395582919772\n",
      "1.964467194946789\n",
      "1.9615428545296003\n",
      "1.9586225622432725\n",
      "1.9557063186316848\n",
      "1.9527941242075568\n",
      "1.949885979452461\n",
      "1.9469818848168459\n",
      "1.9440818407200604\n",
      "1.9411858475503683\n",
      "1.9382939056649846\n",
      "1.9354060153901\n",
      "1.932522177020899\n",
      "1.929642390821603\n",
      "1.9267666570254929\n",
      "1.9238949758349495\n",
      "1.9210273474214763\n",
      "1.9181637719257463\n",
      "1.9153042494576333\n",
      "1.9124487800962524\n",
      "1.9095973638899988\n",
      "1.9067500008565894\n",
      "1.9039066909831033\n",
      "1.9010674342260316\n",
      "1.8982322305113177\n",
      "1.895401079734403\n",
      "1.8925739817602811\n",
      "1.8897509364235412\n",
      "1.8869319435284178\n",
      "1.8841170028488508\n",
      "1.88130611412853\n",
      "1.878499277080952\n",
      "1.8756964913894774\n",
      "1.8728977567073852\n",
      "1.8701030726579349\n",
      "1.8673124388344178\n",
      "1.8645258548002257\n",
      "1.8617433200889069\n",
      "1.8589648342042329\n",
      "1.8561903966202575\n",
      "1.8534200067813846\n",
      "1.8506536641024345\n",
      "1.8478913679687101\n",
      "1.845133117736062\n",
      "1.842378912730964\n",
      "1.8396287522505792\n",
      "1.836882635562828\n",
      "1.8341405619064695\n",
      "1.8314025304911667\n",
      "1.8286685404975644\n",
      "1.825938591077362\n",
      "1.8232126813533907\n",
      "1.8204908104196964\n",
      "1.8177729773416047\n",
      "1.8150591811558145\n",
      "1.8123494208704682\n",
      "1.8096436954652355\n",
      "1.8069420038913944\n",
      "1.8042443450719174\n",
      "1.8015507179015497\n",
      "1.7988611212468961\n",
      "1.7961755539465079\n",
      "1.7934940148109648\n",
      "1.7908165026229648\n",
      "1.78814301613741\n",
      "1.7854735540814994\n",
      "1.7828081151548085\n",
      "1.7801466980293914\n",
      "1.777489301349862\n",
      "1.7748359237334892\n",
      "1.7721865637702903\n",
      "1.769541220023119\n",
      "1.7668998910277667\n",
      "1.7642625752930485\n",
      "1.7616292713009054\n",
      "1.758999977506494\n",
      "1.7563746923382866\n",
      "1.753753414198166\n",
      "1.7511361414615256\n",
      "1.748522872477366\n",
      "1.7459136055683933\n",
      "1.7433083390311184\n",
      "1.740707071135959\n",
      "1.7381098001273387\n",
      "1.7355165242237893\n",
      "1.7329272416180517\n",
      "1.7303419504771764\n",
      "1.727760648942632\n",
      "1.725183335130401\n",
      "1.7226100071310897\n",
      "1.7200406630100311\n",
      "1.717475300807388\n",
      "1.7149139185382596\n",
      "1.7123565141927874\n",
      "1.7098030857362634\n",
      "1.7072536311092321\n",
      "1.7047081482276027\n",
      "1.702166634982755\n",
      "1.6996290892416448\n",
      "1.6970955088469186\n",
      "1.6945658916170154\n",
      "1.6920402353462831\n",
      "1.6895185378050812\n",
      "1.6870007967398957\n",
      "1.684487009873449\n",
      "1.6819771749048096\n",
      "1.6794712895095036\n",
      "1.6769693513396249\n",
      "1.6744713580239516\n",
      "1.6719773071680522\n",
      "1.6694871963544011\n",
      "1.6670010231424937\n",
      "1.6645187850689542\n",
      "1.6620404796476553\n",
      "1.6595661043698255\n",
      "1.6570956567041664\n",
      "1.6546291340969672\n",
      "1.6521665339722187\n",
      "1.6497078537317282\n",
      "1.6472530907552316\n",
      "1.6448022424005142\n",
      "1.6423553060035205\n",
      "1.6399122788784741\n",
      "1.6374731583179891\n",
      "1.6350379415931913\n",
      "1.6326066259538299\n",
      "1.6301792086283962\n",
      "1.62775568682424\n",
      "1.6253360577276847\n",
      "1.6229203185041472\n",
      "1.6205084662982505\n",
      "1.618100498233946\n",
      "1.6156964114146264\n",
      "1.613296202923245\n",
      "1.6108998698224342\n",
      "1.6085074091546216\n",
      "1.6061188179421473\n",
      "1.6037340931873825\n",
      "1.6013532318728498\n",
      "1.598976230961337\n",
      "1.5966030873960153\n",
      "1.5942337981005632\n",
      "1.591868359979279\n",
      "1.5895067699171985\n",
      "1.5871490247802202\n",
      "1.5847951214152143\n",
      "1.5824450566501502\n",
      "1.5800988272942051\n",
      "1.577756430137894\n",
      "1.5754178619531778\n",
      "1.5730831194935881\n",
      "1.5707521994943399\n",
      "1.5684250986724593\n",
      "1.5661018137268923\n",
      "1.5637823413386274\n",
      "1.561466678170815\n",
      "1.5591548208688832\n",
      "1.556846766060661\n",
      "1.5545425103564874\n",
      "1.5522420503493393\n",
      "1.5499453826149456\n",
      "1.5476525037119035\n",
      "1.5453634101818001\n",
      "1.5430780985493282\n",
      "1.540796565322406\n",
      "1.538518806992291\n",
      "1.5362448200337022\n",
      "1.5339746009049393\n",
      "1.5317081460479904\n",
      "1.5294454518886609\n",
      "1.5271865148366848\n",
      "1.5249313312858437\n",
      "1.5226798976140834\n",
      "1.5204322101836294\n",
      "1.5181882653411085\n",
      "1.51594805941766\n",
      "1.5137115887290549\n",
      "1.5114788495758136\n",
      "1.5092498382433193\n",
      "1.5070245510019364\n",
      "1.5048029841071275\n",
      "1.5025851337995644\n",
      "1.500370996305249\n",
      "1.498160567835626\n",
      "1.4959538445877012\n",
      "1.4937508227441505\n",
      "1.4915514984734433\n",
      "1.4893558679299501\n",
      "1.4871639272540615\n",
      "1.4849756725723\n",
      "1.482791099997436\n",
      "1.480610205628602\n",
      "1.478432985551403\n",
      "1.4762594358380339\n",
      "1.4740895525473938\n",
      "1.4719233317251952\n",
      "1.4697607694040782\n",
      "1.4676018616037239\n",
      "1.4654466043309677\n",
      "1.4632949935799107\n",
      "1.4611470253320316\n",
      "1.459002695556298\n",
      "1.456862000209278\n",
      "1.4547249352352543\n",
      "1.4525914965663307\n",
      "1.4504616801225456\n",
      "1.4483354818119845\n",
      "1.4462128975308837\n",
      "1.4440939231637484\n",
      "1.4419785545834551\n",
      "1.4398667876513676\n",
      "1.4377586182174422\n",
      "1.4356540421203359\n",
      "1.4335530551875177\n",
      "1.4314556532353784\n",
      "1.4293618320693326\n",
      "1.4272715874839335\n",
      "1.4251849152629734\n",
      "1.4231018111795954\n",
      "1.4210222709964047\n",
      "1.4189462904655619\n",
      "1.4168738653289052\n",
      "1.4148049913180438\n",
      "1.4127396641544696\n",
      "1.4106778795496633\n",
      "1.4086196332051948\n",
      "1.4065649208128335\n",
      "1.40451373805465\n",
      "1.4024660806031193\n",
      "1.4004219441212267\n",
      "1.3983813242625693\n",
      "1.3963442166714624\n",
      "1.3943106169830397\n",
      "1.3922805208233555\n",
      "1.390253923809489\n",
      "1.3882308215496444\n",
      "1.3862112096432537\n",
      "1.3841950836810764\n",
      "1.3821824392453026\n",
      "1.3801732719096522\n",
      "1.3781675772394755\n",
      "1.37616535079185\n",
      "1.3741665881156875\n",
      "1.372171284751824\n",
      "1.3701794362331254\n",
      "1.3681910380845828\n",
      "1.3662060858234115\n",
      "1.3642245749591497\n",
      "1.362246500993753\n",
      "1.3602718594216952\n",
      "1.3583006457300602\n",
      "1.3563328553986447\n",
      "1.3543684839000503\n",
      "1.3524075266997768\n",
      "1.3504499792563234\n",
      "1.3484958370212792\n",
      "1.3465450954394174\n",
      "1.3445977499487958\n",
      "1.34265379598084\n",
      "1.3407132289604482\n",
      "1.338776044306074\n",
      "1.3368422374298277\n",
      "1.334911803737562\n",
      "1.3329847386289697\n",
      "1.3310610374976684\n",
      "1.3291406957313001\n",
      "1.327223708711615\n",
      "1.3253100718145658\n",
      "1.3233997804103945\n",
      "1.3214928298637272\n",
      "1.3195892155336566\n",
      "1.3176889327738397\n",
      "1.315791976932576\n",
      "1.3138983433529061\n",
      "1.3120080273726904\n",
      "1.3101210243247035\n",
      "1.3082373295367178\n",
      "1.3063569383315896\n",
      "1.304479846027347\n",
      "1.3026060479372765\n",
      "1.3007355393700055\n",
      "1.29886831562959\n",
      "1.2970043720155995\n",
      "1.295143703823199\n",
      "1.293286306343235\n",
      "1.2914321748623196\n",
      "1.2895813046629103\n",
      "1.287733691023397\n",
      "1.2858893292181819\n",
      "1.284048214517762\n",
      "1.2822103421888118\n",
      "1.280375707494262\n",
      "1.2785443056933825\n",
      "1.276716132041863\n",
      "1.274891181791893\n",
      "1.2730694501922388\n",
      "1.2712509324883277\n",
      "1.2694356239223226\n",
      "1.2676235197332026\n",
      "1.265814615156839\n",
      "1.2640089054260777\n",
      "1.2622063857708108\n",
      "1.2604070514180599\n",
      "1.258610897592045\n",
      "1.2568179195142681\n",
      "1.2550281124035814\n",
      "1.253241471476274\n",
      "1.2514579919461342\n",
      "1.2496776690245324\n",
      "1.247900497920492\n",
      "1.2461264738407638\n",
      "1.2443555919899019\n",
      "1.2425878475703331\n",
      "1.2408232357824307\n",
      "1.2390617518245886\n",
      "1.2373033908932909\n",
      "1.2355481481831871\n",
      "1.233796018887155\n",
      "1.2320469981963837\n",
      "1.2303010813004327\n",
      "1.2285582633873093\n",
      "1.2268185396435332\n",
      "1.22508190525421\n",
      "1.2233483554030964\n",
      "1.2216178852726722\n",
      "1.2198904900442051\n",
      "1.2181661648978188\n",
      "1.216444905012563\n",
      "1.2147267055664788\n",
      "1.2130115617366637\n",
      "1.2112994686993388\n",
      "1.2095904216299163\n",
      "1.2078844157030624\n",
      "1.2061814460927631\n",
      "1.2044815079723907\n",
      "1.2027845965147652\n",
      "1.20109070689222\n",
      "1.1993998342766623\n",
      "1.1977119738396427\n",
      "1.1960271207524114\n",
      "1.1943452701859854\n",
      "1.192666417311206\n",
      "1.1909905572988027\n",
      "1.189317685319457\n",
      "1.1876477965438574\n",
      "1.1859808861427663\n",
      "1.1843169492870753\n",
      "1.1826559811478679\n",
      "1.180997976896477\n",
      "1.1793429317045436\n",
      "1.1776908407440787\n",
      "1.1760416991875193\n",
      "1.1743955022077845\n",
      "1.1727522449783376\n",
      "1.1711119226732387\n",
      "1.1694745304672034\n",
      "1.1678400635356618\n",
      "1.1662085170548113\n",
      "1.1645798862016716\n",
      "1.1629541661541436\n",
      "1.1613313520910624\n",
      "1.1597114391922523\n",
      "1.1580944226385792\n",
      "1.1564802976120088\n",
      "1.1548690592956579\n",
      "1.1532607028738442\n",
      "1.1516552235321453\n",
      "1.1500526164574476\n",
      "1.1484528768379993\n",
      "1.1468559998634633\n",
      "1.1452619807249655\n",
      "1.1436708146151504\n",
      "1.1420824967282268\n",
      "1.140497022260024\n",
      "1.1389143864080364\n",
      "1.1373345843714764\n",
      "1.135757611351323\n",
      "1.1341834625503717\n",
      "1.1326121331732824\n",
      "1.1310436184266266\n",
      "1.1294779135189374\n",
      "1.1279150136607574\n",
      "1.1263549140646818\n",
      "1.1247976099454127\n",
      "1.1232430965198001\n",
      "1.1216913690068884\n",
      "1.1201424226279664\n",
      "1.1185962526066102\n",
      "1.1170528541687264\n",
      "1.1155122225426022\n",
      "1.113974352958946\n",
      "1.1124392406509356\n",
      "1.110906880854255\n",
      "1.1093772688071477\n",
      "1.1078503997504527\n",
      "1.1063262689276507\n",
      "1.1048048715849077\n",
      "1.103286202971114\n",
      "1.1017702583379279\n",
      "1.1002570329398196\n",
      "1.098746522034111\n",
      "1.0972387208810144\n",
      "1.0957336247436789\n",
      "1.094231228888224\n",
      "1.0927315285837877\n",
      "1.0912345191025572\n",
      "1.0897401957198165\n",
      "1.0882485537139812\n",
      "1.086759588366641\n",
      "1.085273294962592\n",
      "1.0837896687898825\n",
      "1.0823087051398472\n",
      "1.0808303993071429\n",
      "1.079354746589791\n",
      "1.0778817422892109\n",
      "1.0764113817102579\n",
      "1.0749436601612583\n",
      "1.0734785729540495\n",
      "1.072016115404012\n",
      "1.0705562828301058\n",
      "1.0690990705549082\n",
      "1.0676444739046447\n",
      "1.066192488209227\n",
      "1.0647431088022874\n",
      "1.0632963310212087\n",
      "1.0618521502071647\n",
      "1.06041056170515\n",
      "1.0589715608640125\n",
      "1.057535143036487\n",
      "1.0561013035792308\n",
      "1.0546700378528504\n",
      "1.0532413412219415\n",
      "1.051815209055112\n",
      "1.0503916367250212\n",
      "1.0489706196084068\n",
      "1.047552153086117\n",
      "1.0461362325431416\n",
      "1.0447228533686423\n",
      "1.0433120109559835\n",
      "1.0419037007027592\n",
      "1.0404979180108271\n",
      "1.0390946582863365\n",
      "1.0376939169397552\n",
      "1.036295689385902\n",
      "1.0348999710439706\n",
      "1.0335067573375645\n",
      "1.0321160436947179\n",
      "1.0307278255479273\n",
      "1.0293420983341812\n",
      "1.0279588574949816\n",
      "1.0265780984763768\n",
      "1.0251998167289844\n",
      "1.0238240077080185\n",
      "1.022450666873318\n",
      "1.02107978968937\n",
      "1.0197113716253365\n",
      "1.018345408155082\n",
      "1.0169818947571938\n",
      "1.0156208269150135\n",
      "1.014262200116654\n",
      "1.012906009855031\n",
      "1.0115522516278854\n",
      "1.0102009209378033\n",
      "1.0088520132922476\n",
      "1.0075055242035729\n",
      "1.0061614491890534\n",
      "1.0048197837709052\n",
      "1.0034805234763116\n",
      "1.0021436638374415\n",
      "1.000809200391472\n",
      "0.9994771286806163\n",
      "0.998147444252137\n",
      "0.996820142658375\n",
      "0.9954952194567666\n",
      "0.9941726702098661\n",
      "0.9928524904853675\n",
      "0.9915346758561236\n",
      "0.9902192219001678\n",
      "0.9889061242007333\n",
      "0.9875953783462746\n",
      "0.9862869799304866\n",
      "0.9849809245523246\n",
      "0.9836772078160216\n",
      "0.9823758253311088\n",
      "0.9810767727124379\n",
      "0.9797800455801939\n",
      "0.978485639559917\n",
      "0.9771935502825215\n",
      "0.9759037733843114\n",
      "0.9746163045069998\n",
      "0.973331139297728\n",
      "0.9720482734090798\n",
      "0.9707677024991\n",
      "0.9694894222313144\n",
      "0.9682134282747402\n",
      "0.9669397163039091\n",
      "0.9656682819988793\n",
      "0.9643991210452554\n",
      "0.9631322291342012\n",
      "0.9618676019624562\n",
      "0.9606052352323542\n",
      "0.9593451246518341\n",
      "0.9580872659344586\n",
      "0.9568316547994269\n",
      "0.955578286971591\n",
      "0.9543271581814701\n",
      "0.9530782641652649\n",
      "0.9518316006648727\n",
      "0.9505871634279006\n",
      "0.949344948207677\n",
      "0.9481049507632705\n",
      "0.946867166859497\n",
      "0.9456315922669412\n",
      "0.9443982227619625\n",
      "0.9431670541267109\n",
      "0.941938082149139\n",
      "0.9407113026230154\n",
      "0.9394867113479363\n",
      "0.9382643041293403\n",
      "0.9370440767785153\n",
      "0.9358260251126146\n",
      "0.9346101449546668\n",
      "0.9333964321335882\n",
      "0.9321848824841935\n",
      "0.9309754918472077\n",
      "0.9297682560692767\n",
      "0.9285631710029767\n",
      "0.9273602325068266\n",
      "0.9261594364453004\n",
      "0.9249607786888309\n",
      "0.9237642551138271\n",
      "0.9225698616026803\n",
      "0.9213775940437744\n",
      "0.9201874483314963\n",
      "0.9189994203662469\n",
      "0.9178135060544437\n",
      "0.9166297013085386\n",
      "0.9154480020470228\n",
      "0.9142684041944353\n",
      "0.9130909036813715\n",
      "0.911915496444494\n",
      "0.9107421784265377\n",
      "0.9095709455763212\n"
     ]
    }
   ],
   "source": [
    "#Gradient descent\n",
    "learning_rate=0.01 #----hyperparameters Initialization\n",
    "n=len(y_train)\n",
    "#-------------------------------------------Model Initialization\n",
    "w1=0\n",
    "w2=0\n",
    "bias=2\n",
    "epochs=1000\n",
    "for i in range(epochs):\n",
    "    z=bias+w1*X_train[:,0]+w2*X_train[:,1] #-----------------------logit\n",
    "    yhat=sigmoid(z)\n",
    "    \n",
    "    mse=(1/n)*np.sum(y_train-yhat)**2 #error\n",
    "    print(mse)\n",
    "    #------Gradient calculation: by using partial derivative\n",
    "     #----- dmse/dbias, dmse/dw1\n",
    "    gradient_bias=-(2/n)*np.sum(y_train-yhat)\n",
    "    gradient_w1=-(2/n)*np.sum(X_train[:,0]*(y_train-yhat))\n",
    "    gradient_w2=-(2/n)*np.sum(X_train[:,1]*(y_train-yhat))\n",
    "    \n",
    "   #-----------------update parameters by using gradients \n",
    "    bias=bias-gradient_bias*learning_rate\n",
    "    w1=w1-gradient_w1*learning_rate\n",
    "    w2=w2-gradient_w2*learning_rate\n",
    "    \n",
    "    \n"
   ]
  },
  {
   "cell_type": "code",
   "execution_count": 31,
   "id": "961e7d7f",
   "metadata": {},
   "outputs": [
    {
     "data": {
      "text/plain": [
       "(-11.54734129881503, 2.2273317121501206, 2.132776462319896)"
      ]
     },
     "execution_count": 31,
     "metadata": {},
     "output_type": "execute_result"
    }
   ],
   "source": [
    "bias,w1,w2"
   ]
  },
  {
   "cell_type": "code",
   "execution_count": 41,
   "id": "c7f3aac8-ad7f-4d67-979d-37bc640de11d",
   "metadata": {},
   "outputs": [],
   "source": [
    "def getY(x1):\n",
    "    return -w1/w2*x1-bias/w2"
   ]
  },
  {
   "cell_type": "code",
   "execution_count": 42,
   "id": "e8ad12a6",
   "metadata": {},
   "outputs": [],
   "source": [
    "x_points=np.array([0,5])\n",
    "y_points=getY(x_points)"
   ]
  },
  {
   "cell_type": "code",
   "execution_count": 43,
   "id": "b7b39251",
   "metadata": {},
   "outputs": [
    {
     "data": {
      "text/plain": [
       "[<matplotlib.lines.Line2D at 0x7fb350f812d0>]"
      ]
     },
     "execution_count": 43,
     "metadata": {},
     "output_type": "execute_result"
    },
    {
     "data": {
      "image/png": "[encoded data removed]",
      "text/plain": [
       "<Figure size 640x480 with 1 Axes>"
      ]
     },
     "metadata": {},
     "output_type": "display_data"
    }
   ],
   "source": [
    "colors = ['red','blue']\n",
    "plt.scatter(X1,X2,c=y,cmap=clr.ListedColormap(colors))\n",
    "plt.scatter(X_test[:,0],X_test[:,1],color=\"black\")\n",
    "plt.plot(x_points,y_points)\n"
   ]
  },
  {
   "cell_type": "code",
   "execution_count": null,
   "id": "eb333c7e-8455-4c3e-af4c-6ea8b2580320",
   "metadata": {},
   "outputs": [],
   "source": []
  }
 ],
 "metadata": {
  "kernelspec": {
   "display_name": "Python 3 (ipykernel)",
   "language": "python",
   "name": "python3"
  },
  "language_info": {
   "codemirror_mode": {
    "name": "ipython",
    "version": 3
   },
   "file_extension": ".py",
   "mimetype": "text/x-python",
   "name": "python",
   "nbconvert_exporter": "python",
   "pygments_lexer": "ipython3",
   "version": "3.11.6"
  }
 },
 "nbformat": 4,
 "nbformat_minor": 5
}
