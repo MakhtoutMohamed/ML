{
 "cells": [
  {
   "cell_type": "code",
   "execution_count": 8,
   "id": "c8560b4d-407b-43ea-9473-97428c117ab5",
   "metadata": {},
   "outputs": [],
   "source": [
    "import pandas as pnd"
   ]
  },
  {
   "cell_type": "code",
   "execution_count": 9,
   "id": "a7dee4b7-46e0-4925-9690-f44951359733",
   "metadata": {},
   "outputs": [],
   "source": [
    "from sklearn.model_selection import train_test_split"
   ]
  },
  {
   "cell_type": "code",
   "execution_count": 15,
   "id": "2142a0d6-524c-4fdf-be6e-7c63b63db23e",
   "metadata": {},
   "outputs": [],
   "source": [
    "dataset=pnd.read_csv(\"advertising.csv\",index_col=0)"
   ]
  },
  {
   "cell_type": "code",
   "execution_count": 16,
   "id": "3154eafc-33db-4697-8871-9f83c392f80a",
   "metadata": {},
   "outputs": [],
   "source": [
    "X=dataset.iloc[:,:3]\n",
    "y=dataset.iloc[:,3]"
   ]
  },
  {
   "cell_type": "code",
   "execution_count": 17,
   "id": "017b89ab-4ee4-4eec-b8b7-b74f6377ea7e",
   "metadata": {},
   "outputs": [
    {
     "data": {
      "text/html": [
       "<div>\n",
       "<style scoped>\n",
       "    .dataframe tbody tr th:only-of-type {\n",
       "        vertical-align: middle;\n",
       "    }\n",
       "\n",
       "    .dataframe tbody tr th {\n",
       "        vertical-align: top;\n",
       "    }\n",
       "\n",
       "    .dataframe thead th {\n",
       "        text-align: right;\n",
       "    }\n",
       "</style>\n",
       "<table border=\"1\" class=\"dataframe\">\n",
       "  <thead>\n",
       "    <tr style=\"text-align: right;\">\n",
       "      <th></th>\n",
       "      <th>TV</th>\n",
       "      <th>Radio</th>\n",
       "      <th>Newspaper</th>\n",
       "    </tr>\n",
       "    <tr>\n",
       "      <th>ID</th>\n",
       "      <th></th>\n",
       "      <th></th>\n",
       "      <th></th>\n",
       "    </tr>\n",
       "  </thead>\n",
       "  <tbody>\n",
       "    <tr>\n",
       "      <th>1</th>\n",
       "      <td>230.1</td>\n",
       "      <td>37.8</td>\n",
       "      <td>69.2</td>\n",
       "    </tr>\n",
       "    <tr>\n",
       "      <th>2</th>\n",
       "      <td>44.5</td>\n",
       "      <td>39.3</td>\n",
       "      <td>45.1</td>\n",
       "    </tr>\n",
       "    <tr>\n",
       "      <th>3</th>\n",
       "      <td>17.2</td>\n",
       "      <td>45.9</td>\n",
       "      <td>69.3</td>\n",
       "    </tr>\n",
       "    <tr>\n",
       "      <th>4</th>\n",
       "      <td>151.5</td>\n",
       "      <td>41.3</td>\n",
       "      <td>58.5</td>\n",
       "    </tr>\n",
       "    <tr>\n",
       "      <th>5</th>\n",
       "      <td>180.8</td>\n",
       "      <td>10.8</td>\n",
       "      <td>58.4</td>\n",
       "    </tr>\n",
       "    <tr>\n",
       "      <th>...</th>\n",
       "      <td>...</td>\n",
       "      <td>...</td>\n",
       "      <td>...</td>\n",
       "    </tr>\n",
       "    <tr>\n",
       "      <th>196</th>\n",
       "      <td>38.2</td>\n",
       "      <td>3.7</td>\n",
       "      <td>13.8</td>\n",
       "    </tr>\n",
       "    <tr>\n",
       "      <th>197</th>\n",
       "      <td>94.2</td>\n",
       "      <td>4.9</td>\n",
       "      <td>8.1</td>\n",
       "    </tr>\n",
       "    <tr>\n",
       "      <th>198</th>\n",
       "      <td>177.0</td>\n",
       "      <td>9.3</td>\n",
       "      <td>6.4</td>\n",
       "    </tr>\n",
       "    <tr>\n",
       "      <th>199</th>\n",
       "      <td>283.6</td>\n",
       "      <td>42.0</td>\n",
       "      <td>66.2</td>\n",
       "    </tr>\n",
       "    <tr>\n",
       "      <th>200</th>\n",
       "      <td>232.1</td>\n",
       "      <td>8.6</td>\n",
       "      <td>8.7</td>\n",
       "    </tr>\n",
       "  </tbody>\n",
       "</table>\n",
       "<p>200 rows × 3 columns</p>\n",
       "</div>"
      ],
      "text/plain": [
       "        TV  Radio  Newspaper\n",
       "ID                          \n",
       "1    230.1   37.8       69.2\n",
       "2     44.5   39.3       45.1\n",
       "3     17.2   45.9       69.3\n",
       "4    151.5   41.3       58.5\n",
       "5    180.8   10.8       58.4\n",
       "..     ...    ...        ...\n",
       "196   38.2    3.7       13.8\n",
       "197   94.2    4.9        8.1\n",
       "198  177.0    9.3        6.4\n",
       "199  283.6   42.0       66.2\n",
       "200  232.1    8.6        8.7\n",
       "\n",
       "[200 rows x 3 columns]"
      ]
     },
     "execution_count": 17,
     "metadata": {},
     "output_type": "execute_result"
    }
   ],
   "source": [
    "X"
   ]
  },
  {
   "cell_type": "code",
   "execution_count": 18,
   "id": "76793d60-b1fd-4996-a978-b327476fda8e",
   "metadata": {},
   "outputs": [
    {
     "data": {
      "text/plain": [
       "[        TV  Radio  Newspaper\n",
       " ID                          \n",
       " 156    4.1   11.6        5.7\n",
       " 167   17.9   37.6       21.6\n",
       " 18   281.4   39.6       55.8\n",
       " 25    62.3   12.6       18.3\n",
       " 182  218.5    5.4       27.4\n",
       " ..     ...    ...        ...\n",
       " 66    69.0    9.3        0.9\n",
       " 44   206.9    8.4       26.4\n",
       " 5    180.8   10.8       58.4\n",
       " 147  240.1    7.3        8.7\n",
       " 139   43.0   25.9       20.5\n",
       " \n",
       " [150 rows x 3 columns],\n",
       "         TV  Radio  Newspaper\n",
       " ID                          \n",
       " 20   147.3   23.9       19.1\n",
       " 109   13.1    0.4       25.6\n",
       " 99   289.7   42.3       51.2\n",
       " 23    13.2   15.9       49.6\n",
       " 73    26.8   33.0       19.3\n",
       " 67    31.5   24.6        2.2\n",
       " 24   228.3   16.9       26.2\n",
       " 98   184.9   21.0       22.0\n",
       " 145   96.2   14.8       38.9\n",
       " 125  229.5   32.3       74.2\n",
       " 96   163.3   31.6       52.9\n",
       " 65   131.1   42.8       28.9\n",
       " 64   102.7   29.6        8.4\n",
       " 160  131.7   18.4       34.6\n",
       " 192   75.5   10.8        6.0\n",
       " 126   87.2   11.8       25.9\n",
       " 127    7.8   38.9       50.6\n",
       " 177  248.4   30.2       20.3\n",
       " 184  287.6   43.0       71.8\n",
       " 35    95.7    1.4        7.4\n",
       " 48   239.9   41.5       18.5\n",
       " 76    16.9   43.7       89.4\n",
       " 175  222.4    3.4       13.1\n",
       " 46   175.1   22.5       31.5\n",
       " 32   112.9   17.4       38.6\n",
       " 61    53.5    2.0       21.4\n",
       " 169  215.4   23.6       57.6\n",
       " 21   218.4   27.7       53.4\n",
       " 89    88.3   25.5       73.4\n",
       " 53   216.4   41.7       39.6\n",
       " 26   262.9    3.5       19.5\n",
       " 149   38.0   40.3       11.9\n",
       " 81    76.4   26.7       22.3\n",
       " 7     57.5   32.8       23.5\n",
       " 116   75.1   35.0       52.7\n",
       " 166  234.5    3.4       84.8\n",
       " 97   197.6    3.5        5.9\n",
       " 122   18.8   21.7       50.4\n",
       " 186  205.0   45.1       19.6\n",
       " 1    230.1   37.8       69.2\n",
       " 191   39.5   41.1        5.8\n",
       " 138  273.7   28.9       59.7\n",
       " 59   210.8   49.6       37.7\n",
       " 100  135.2   41.7       45.9\n",
       " 181  156.6    2.6        8.3\n",
       " 62   261.3   42.7       54.7\n",
       " 193   17.2    4.1       31.6\n",
       " 14    97.5    7.6        7.2\n",
       " 143  220.5   33.2       37.9\n",
       " 101  222.4    4.3       49.8,\n",
       " ID\n",
       " 156     3.2\n",
       " 167     8.0\n",
       " 18     24.4\n",
       " 25      9.7\n",
       " 182    17.2\n",
       "        ... \n",
       " 66     11.3\n",
       " 44     17.9\n",
       " 5      17.9\n",
       " 147    18.2\n",
       " 139     9.6\n",
       " Name: Sales, Length: 150, dtype: float64,\n",
       " ID\n",
       " 20     14.6\n",
       " 109     5.3\n",
       " 99     25.4\n",
       " 23      5.6\n",
       " 73      8.8\n",
       " 67     11.0\n",
       " 24     20.5\n",
       " 98     20.5\n",
       " 145    12.3\n",
       " 125    19.7\n",
       " 96     16.9\n",
       " 65     16.0\n",
       " 64     14.0\n",
       " 160    12.9\n",
       " 192    11.9\n",
       " 126    10.6\n",
       " 127     6.6\n",
       " 177    20.2\n",
       " 184    26.2\n",
       " 35     11.9\n",
       " 48     23.2\n",
       " 76      8.7\n",
       " 175    16.5\n",
       " 46     16.1\n",
       " 32     11.9\n",
       " 61      8.1\n",
       " 169    17.1\n",
       " 21     18.0\n",
       " 89     12.9\n",
       " 53     22.6\n",
       " 26     17.0\n",
       " 149    10.9\n",
       " 81     11.8\n",
       " 7      11.8\n",
       " 116    12.6\n",
       " 166    16.9\n",
       " 97     16.7\n",
       " 122     7.0\n",
       " 186    22.6\n",
       " 1      22.1\n",
       " 191    10.8\n",
       " 138    20.8\n",
       " 59     23.8\n",
       " 100    17.2\n",
       " 181    15.5\n",
       " 62     24.2\n",
       " 193     5.9\n",
       " 14     13.7\n",
       " 143    20.1\n",
       " 101    16.7\n",
       " Name: Sales, dtype: float64]"
      ]
     },
     "execution_count": 18,
     "metadata": {},
     "output_type": "execute_result"
    }
   ],
   "source": [
    "train_test_split(X,y)"
   ]
  },
  {
   "cell_type": "code",
   "execution_count": 19,
   "id": "75d2ca99-9234-471b-ba0a-85f7ab330c8c",
   "metadata": {},
   "outputs": [],
   "source": [
    "X_train, X_test, y_train, y_test = train_test_split(X, y, test_size=0.2, random_state=55)"
   ]
  },
  {
   "cell_type": "code",
   "execution_count": 20,
   "id": "ba350879-f91e-4625-8d3f-d17b09ab1cec",
   "metadata": {},
   "outputs": [
    {
     "data": {
      "text/html": [
       "<div>\n",
       "<style scoped>\n",
       "    .dataframe tbody tr th:only-of-type {\n",
       "        vertical-align: middle;\n",
       "    }\n",
       "\n",
       "    .dataframe tbody tr th {\n",
       "        vertical-align: top;\n",
       "    }\n",
       "\n",
       "    .dataframe thead th {\n",
       "        text-align: right;\n",
       "    }\n",
       "</style>\n",
       "<table border=\"1\" class=\"dataframe\">\n",
       "  <thead>\n",
       "    <tr style=\"text-align: right;\">\n",
       "      <th></th>\n",
       "      <th>TV</th>\n",
       "      <th>Radio</th>\n",
       "      <th>Newspaper</th>\n",
       "    </tr>\n",
       "    <tr>\n",
       "      <th>ID</th>\n",
       "      <th></th>\n",
       "      <th></th>\n",
       "      <th></th>\n",
       "    </tr>\n",
       "  </thead>\n",
       "  <tbody>\n",
       "    <tr>\n",
       "      <th>103</th>\n",
       "      <td>280.2</td>\n",
       "      <td>10.1</td>\n",
       "      <td>21.4</td>\n",
       "    </tr>\n",
       "    <tr>\n",
       "      <th>181</th>\n",
       "      <td>156.6</td>\n",
       "      <td>2.6</td>\n",
       "      <td>8.3</td>\n",
       "    </tr>\n",
       "    <tr>\n",
       "      <th>116</th>\n",
       "      <td>75.1</td>\n",
       "      <td>35.0</td>\n",
       "      <td>52.7</td>\n",
       "    </tr>\n",
       "    <tr>\n",
       "      <th>101</th>\n",
       "      <td>222.4</td>\n",
       "      <td>4.3</td>\n",
       "      <td>49.8</td>\n",
       "    </tr>\n",
       "    <tr>\n",
       "      <th>12</th>\n",
       "      <td>214.7</td>\n",
       "      <td>24.0</td>\n",
       "      <td>4.0</td>\n",
       "    </tr>\n",
       "    <tr>\n",
       "      <th>...</th>\n",
       "      <td>...</td>\n",
       "      <td>...</td>\n",
       "      <td>...</td>\n",
       "    </tr>\n",
       "    <tr>\n",
       "      <th>190</th>\n",
       "      <td>18.7</td>\n",
       "      <td>12.1</td>\n",
       "      <td>23.4</td>\n",
       "    </tr>\n",
       "    <tr>\n",
       "      <th>30</th>\n",
       "      <td>70.6</td>\n",
       "      <td>16.0</td>\n",
       "      <td>40.8</td>\n",
       "    </tr>\n",
       "    <tr>\n",
       "      <th>126</th>\n",
       "      <td>87.2</td>\n",
       "      <td>11.8</td>\n",
       "      <td>25.9</td>\n",
       "    </tr>\n",
       "    <tr>\n",
       "      <th>40</th>\n",
       "      <td>228.0</td>\n",
       "      <td>37.7</td>\n",
       "      <td>32.0</td>\n",
       "    </tr>\n",
       "    <tr>\n",
       "      <th>155</th>\n",
       "      <td>187.8</td>\n",
       "      <td>21.1</td>\n",
       "      <td>9.5</td>\n",
       "    </tr>\n",
       "  </tbody>\n",
       "</table>\n",
       "<p>160 rows × 3 columns</p>\n",
       "</div>"
      ],
      "text/plain": [
       "        TV  Radio  Newspaper\n",
       "ID                          \n",
       "103  280.2   10.1       21.4\n",
       "181  156.6    2.6        8.3\n",
       "116   75.1   35.0       52.7\n",
       "101  222.4    4.3       49.8\n",
       "12   214.7   24.0        4.0\n",
       "..     ...    ...        ...\n",
       "190   18.7   12.1       23.4\n",
       "30    70.6   16.0       40.8\n",
       "126   87.2   11.8       25.9\n",
       "40   228.0   37.7       32.0\n",
       "155  187.8   21.1        9.5\n",
       "\n",
       "[160 rows x 3 columns]"
      ]
     },
     "execution_count": 20,
     "metadata": {},
     "output_type": "execute_result"
    }
   ],
   "source": [
    "X_train"
   ]
  },
  {
   "cell_type": "code",
   "execution_count": 21,
   "id": "3fe1fae3-5109-4d53-8903-4e22cc65bc82",
   "metadata": {},
   "outputs": [
    {
     "data": {
      "text/html": [
       "<div>\n",
       "<style scoped>\n",
       "    .dataframe tbody tr th:only-of-type {\n",
       "        vertical-align: middle;\n",
       "    }\n",
       "\n",
       "    .dataframe tbody tr th {\n",
       "        vertical-align: top;\n",
       "    }\n",
       "\n",
       "    .dataframe thead th {\n",
       "        text-align: right;\n",
       "    }\n",
       "</style>\n",
       "<table border=\"1\" class=\"dataframe\">\n",
       "  <thead>\n",
       "    <tr style=\"text-align: right;\">\n",
       "      <th></th>\n",
       "      <th>TV</th>\n",
       "      <th>Radio</th>\n",
       "      <th>Newspaper</th>\n",
       "      <th>Sales</th>\n",
       "    </tr>\n",
       "  </thead>\n",
       "  <tbody>\n",
       "    <tr>\n",
       "      <th>count</th>\n",
       "      <td>200.000000</td>\n",
       "      <td>200.000000</td>\n",
       "      <td>200.000000</td>\n",
       "      <td>200.000000</td>\n",
       "    </tr>\n",
       "    <tr>\n",
       "      <th>mean</th>\n",
       "      <td>147.042500</td>\n",
       "      <td>23.264000</td>\n",
       "      <td>30.554000</td>\n",
       "      <td>15.130500</td>\n",
       "    </tr>\n",
       "    <tr>\n",
       "      <th>std</th>\n",
       "      <td>85.854236</td>\n",
       "      <td>14.846809</td>\n",
       "      <td>21.778621</td>\n",
       "      <td>5.283892</td>\n",
       "    </tr>\n",
       "    <tr>\n",
       "      <th>min</th>\n",
       "      <td>0.700000</td>\n",
       "      <td>0.000000</td>\n",
       "      <td>0.300000</td>\n",
       "      <td>1.600000</td>\n",
       "    </tr>\n",
       "    <tr>\n",
       "      <th>25%</th>\n",
       "      <td>74.375000</td>\n",
       "      <td>9.975000</td>\n",
       "      <td>12.750000</td>\n",
       "      <td>11.000000</td>\n",
       "    </tr>\n",
       "    <tr>\n",
       "      <th>50%</th>\n",
       "      <td>149.750000</td>\n",
       "      <td>22.900000</td>\n",
       "      <td>25.750000</td>\n",
       "      <td>16.000000</td>\n",
       "    </tr>\n",
       "    <tr>\n",
       "      <th>75%</th>\n",
       "      <td>218.825000</td>\n",
       "      <td>36.525000</td>\n",
       "      <td>45.100000</td>\n",
       "      <td>19.050000</td>\n",
       "    </tr>\n",
       "    <tr>\n",
       "      <th>max</th>\n",
       "      <td>296.400000</td>\n",
       "      <td>49.600000</td>\n",
       "      <td>114.000000</td>\n",
       "      <td>27.000000</td>\n",
       "    </tr>\n",
       "  </tbody>\n",
       "</table>\n",
       "</div>"
      ],
      "text/plain": [
       "               TV       Radio   Newspaper       Sales\n",
       "count  200.000000  200.000000  200.000000  200.000000\n",
       "mean   147.042500   23.264000   30.554000   15.130500\n",
       "std     85.854236   14.846809   21.778621    5.283892\n",
       "min      0.700000    0.000000    0.300000    1.600000\n",
       "25%     74.375000    9.975000   12.750000   11.000000\n",
       "50%    149.750000   22.900000   25.750000   16.000000\n",
       "75%    218.825000   36.525000   45.100000   19.050000\n",
       "max    296.400000   49.600000  114.000000   27.000000"
      ]
     },
     "execution_count": 21,
     "metadata": {},
     "output_type": "execute_result"
    }
   ],
   "source": [
    "dataset.describe()"
   ]
  },
  {
   "cell_type": "code",
   "execution_count": null,
   "id": "f91b6f2f-5745-4509-ab57-8bad108d14e0",
   "metadata": {},
   "outputs": [],
   "source": [
    "#** Les etapes\n",
    "#1- cree: LinearRegression\n",
    "#2- entrainer: fit"
   ]
  },
  {
   "cell_type": "code",
   "execution_count": 22,
   "id": "757bbc6d-c0ba-4474-a6ed-4e9f434d76d1",
   "metadata": {},
   "outputs": [],
   "source": [
    "#model (sklearn)\n",
    "from sklearn.linear_model import LinearRegression"
   ]
  },
  {
   "cell_type": "code",
   "execution_count": 23,
   "id": "f502caf4-be91-46e9-b80b-c2e41fe746f0",
   "metadata": {},
   "outputs": [],
   "source": [
    "model=LinearRegression()"
   ]
  },
  {
   "cell_type": "code",
   "execution_count": 24,
   "id": "d61bdb65-b221-4810-82c6-fad9b4ff8bc6",
   "metadata": {},
   "outputs": [
    {
     "data": {
      "text/html": [
       "<style>#sk-container-id-1 {color: black;}#sk-container-id-1 pre{padding: 0;}#sk-container-id-1 div.sk-toggleable {background-color: white;}#sk-container-id-1 label.sk-toggleable__label {cursor: pointer;display: block;width: 100%;margin-bottom: 0;padding: 0.3em;box-sizing: border-box;text-align: center;}#sk-container-id-1 label.sk-toggleable__label-arrow:before {content: \"▸\";float: left;margin-right: 0.25em;color: #696969;}#sk-container-id-1 label.sk-toggleable__label-arrow:hover:before {color: black;}#sk-container-id-1 div.sk-estimator:hover label.sk-toggleable__label-arrow:before {color: black;}#sk-container-id-1 div.sk-toggleable__content {max-height: 0;max-width: 0;overflow: hidden;text-align: left;background-color: #f0f8ff;}#sk-container-id-1 div.sk-toggleable__content pre {margin: 0.2em;color: black;border-radius: 0.25em;background-color: #f0f8ff;}#sk-container-id-1 input.sk-toggleable__control:checked~div.sk-toggleable__content {max-height: 200px;max-width: 100%;overflow: auto;}#sk-container-id-1 input.sk-toggleable__control:checked~label.sk-toggleable__label-arrow:before {content: \"▾\";}#sk-container-id-1 div.sk-estimator input.sk-toggleable__control:checked~label.sk-toggleable__label {background-color: #d4ebff;}#sk-container-id-1 div.sk-label input.sk-toggleable__control:checked~label.sk-toggleable__label {background-color: #d4ebff;}#sk-container-id-1 input.sk-hidden--visually {border: 0;clip: rect(1px 1px 1px 1px);clip: rect(1px, 1px, 1px, 1px);height: 1px;margin: -1px;overflow: hidden;padding: 0;position: absolute;width: 1px;}#sk-container-id-1 div.sk-estimator {font-family: monospace;background-color: #f0f8ff;border: 1px dotted black;border-radius: 0.25em;box-sizing: border-box;margin-bottom: 0.5em;}#sk-container-id-1 div.sk-estimator:hover {background-color: #d4ebff;}#sk-container-id-1 div.sk-parallel-item::after {content: \"\";width: 100%;border-bottom: 1px solid gray;flex-grow: 1;}#sk-container-id-1 div.sk-label:hover label.sk-toggleable__label {background-color: #d4ebff;}#sk-container-id-1 div.sk-serial::before {content: \"\";position: absolute;border-left: 1px solid gray;box-sizing: border-box;top: 0;bottom: 0;left: 50%;z-index: 0;}#sk-container-id-1 div.sk-serial {display: flex;flex-direction: column;align-items: center;background-color: white;padding-right: 0.2em;padding-left: 0.2em;position: relative;}#sk-container-id-1 div.sk-item {position: relative;z-index: 1;}#sk-container-id-1 div.sk-parallel {display: flex;align-items: stretch;justify-content: center;background-color: white;position: relative;}#sk-container-id-1 div.sk-item::before, #sk-container-id-1 div.sk-parallel-item::before {content: \"\";position: absolute;border-left: 1px solid gray;box-sizing: border-box;top: 0;bottom: 0;left: 50%;z-index: -1;}#sk-container-id-1 div.sk-parallel-item {display: flex;flex-direction: column;z-index: 1;position: relative;background-color: white;}#sk-container-id-1 div.sk-parallel-item:first-child::after {align-self: flex-end;width: 50%;}#sk-container-id-1 div.sk-parallel-item:last-child::after {align-self: flex-start;width: 50%;}#sk-container-id-1 div.sk-parallel-item:only-child::after {width: 0;}#sk-container-id-1 div.sk-dashed-wrapped {border: 1px dashed gray;margin: 0 0.4em 0.5em 0.4em;box-sizing: border-box;padding-bottom: 0.4em;background-color: white;}#sk-container-id-1 div.sk-label label {font-family: monospace;font-weight: bold;display: inline-block;line-height: 1.2em;}#sk-container-id-1 div.sk-label-container {text-align: center;}#sk-container-id-1 div.sk-container {/* jupyter's `normalize.less` sets `[hidden] { display: none; }` but bootstrap.min.css set `[hidden] { display: none !important; }` so we also need the `!important` here to be able to override the default hidden behavior on the sphinx rendered scikit-learn.org. See: https://github.com/scikit-learn/scikit-learn/issues/21755 */display: inline-block !important;position: relative;}#sk-container-id-1 div.sk-text-repr-fallback {display: none;}</style><div id=\"sk-container-id-1\" class=\"sk-top-container\"><div class=\"sk-text-repr-fallback\"><pre>LinearRegression()</pre><b>In a Jupyter environment, please rerun this cell to show the HTML representation or trust the notebook. <br />On GitHub, the HTML representation is unable to render, please try loading this page with nbviewer.org.</b></div><div class=\"sk-container\" hidden><div class=\"sk-item\"><div class=\"sk-estimator sk-toggleable\"><input class=\"sk-toggleable__control sk-hidden--visually\" id=\"sk-estimator-id-1\" type=\"checkbox\" checked><label for=\"sk-estimator-id-1\" class=\"sk-toggleable__label sk-toggleable__label-arrow\">LinearRegression</label><div class=\"sk-toggleable__content\"><pre>LinearRegression()</pre></div></div></div></div></div>"
      ],
      "text/plain": [
       "LinearRegression()"
      ]
     },
     "execution_count": 24,
     "metadata": {},
     "output_type": "execute_result"
    }
   ],
   "source": [
    "model.fit(X_train, y_train)"
   ]
  },
  {
   "cell_type": "code",
   "execution_count": 27,
   "id": "f9f1c131-8987-4175-9aa7-ffbdf29a9440",
   "metadata": {},
   "outputs": [],
   "source": [
    "bais=model.intercept_"
   ]
  },
  {
   "cell_type": "code",
   "execution_count": 28,
   "id": "c0141182-35b7-4907-a8ee-0b26e925e95b",
   "metadata": {},
   "outputs": [],
   "source": [
    "W=model.coef_"
   ]
  },
  {
   "cell_type": "code",
   "execution_count": 43,
   "id": "c3198620-c0ee-4b79-9fa7-b6fadab5a527",
   "metadata": {},
   "outputs": [],
   "source": [
    "y1=bais+W[0]*50+W[1]*40+W[2]*30"
   ]
  },
  {
   "cell_type": "code",
   "execution_count": 44,
   "id": "b833a701-e32c-47c8-9b9a-609ae24895b1",
   "metadata": {},
   "outputs": [],
   "source": [
    "y2=bais+W[0]*40+W[1]*30+W[2]*50"
   ]
  },
  {
   "cell_type": "code",
   "execution_count": 45,
   "id": "7d1337c7-9e0f-40b4-a110-ff28cce8b7c3",
   "metadata": {},
   "outputs": [],
   "source": [
    "y3=bais+W[0]*30+W[1]*80+W[2]*10"
   ]
  },
  {
   "cell_type": "code",
   "execution_count": 46,
   "id": "c8290b8b-811a-4ea8-8430-a0f9e2439002",
   "metadata": {},
   "outputs": [
    {
     "data": {
      "text/plain": [
       "11.774930167235357"
      ]
     },
     "execution_count": 46,
     "metadata": {},
     "output_type": "execute_result"
    }
   ],
   "source": [
    "y1"
   ]
  },
  {
   "cell_type": "code",
   "execution_count": 47,
   "id": "a142e64c-eef3-492c-be41-b2eb63c1a44b",
   "metadata": {},
   "outputs": [
    {
     "data": {
      "text/plain": [
       "10.153241659098537"
      ]
     },
     "execution_count": 47,
     "metadata": {},
     "output_type": "execute_result"
    }
   ],
   "source": [
    "y2"
   ]
  },
  {
   "cell_type": "code",
   "execution_count": 48,
   "id": "d5408cd9-9b80-4ed3-9049-a8fa12483196",
   "metadata": {},
   "outputs": [
    {
     "data": {
      "text/plain": [
       "15.012289501650384"
      ]
     },
     "execution_count": 48,
     "metadata": {},
     "output_type": "execute_result"
    }
   ],
   "source": [
    "y3"
   ]
  },
  {
   "cell_type": "code",
   "execution_count": 53,
   "id": "4ae2c1b8-c4d3-4fa2-a041-4f0976d3d3d3",
   "metadata": {},
   "outputs": [],
   "source": [
    "import numpy as np"
   ]
  },
  {
   "cell_type": "code",
   "execution_count": 55,
   "id": "5712ccbc-8430-4b08-9a00-f8730da4c41b",
   "metadata": {},
   "outputs": [
    {
     "data": {
      "text/plain": [
       "array([16, 25])"
      ]
     },
     "execution_count": 55,
     "metadata": {},
     "output_type": "execute_result"
    }
   ],
   "source": [
    "a=np.array([4,5])\n",
    "a**2"
   ]
  },
  {
   "cell_type": "code",
   "execution_count": 51,
   "id": "059a956a-9a2f-41ed-b5e0-8fd317dc6c38",
   "metadata": {},
   "outputs": [],
   "source": [
    "yhat=model.predict(X_test)"
   ]
  },
  {
   "cell_type": "code",
   "execution_count": 56,
   "id": "f6eb3a8d-497a-4d9c-9c63-6cbb742a9b94",
   "metadata": {},
   "outputs": [
    {
     "data": {
      "text/plain": [
       "numpy.ndarray"
      ]
     },
     "execution_count": 56,
     "metadata": {},
     "output_type": "execute_result"
    }
   ],
   "source": [
    "type(yhat)"
   ]
  },
  {
   "cell_type": "code",
   "execution_count": 50,
   "id": "0a61c8ab-689d-43d0-98ea-4eb73b0f5dd7",
   "metadata": {},
   "outputs": [
    {
     "data": {
      "text/plain": [
       "40"
      ]
     },
     "execution_count": 50,
     "metadata": {},
     "output_type": "execute_result"
    }
   ],
   "source": [
    "len(X_test)"
   ]
  },
  {
   "cell_type": "code",
   "execution_count": 52,
   "id": "902f8aa1-c2d6-43dd-8c46-bef4d6eb2c31",
   "metadata": {},
   "outputs": [
    {
     "data": {
      "text/plain": [
       "ID\n",
       "80    -0.850936\n",
       "117   -1.608762\n",
       "137   -0.861893\n",
       "130    0.427625\n",
       "125   -0.887520\n",
       "191   -0.537050\n",
       "146   -2.238905\n",
       "23    -1.593561\n",
       "189   -0.771464\n",
       "54     1.633804\n",
       "142    0.205315\n",
       "182    0.083608\n",
       "124    0.067309\n",
       "171   -0.321608\n",
       "167   -1.792532\n",
       "200    0.200764\n",
       "120   -0.947602\n",
       "58    -0.978078\n",
       "134   -0.605189\n",
       "27    -0.627299\n",
       "102   -0.807933\n",
       "16     1.981604\n",
       "149   -0.268053\n",
       "86     3.058857\n",
       "144   -0.618274\n",
       "138   -1.804646\n",
       "115    0.577419\n",
       "172    1.627294\n",
       "28     1.403388\n",
       "76    -1.671323\n",
       "180    2.830971\n",
       "159   -2.075213\n",
       "65    -0.440015\n",
       "133   -2.468730\n",
       "198   -0.510983\n",
       "151   -5.274476\n",
       "199    0.954735\n",
       "35     1.813875\n",
       "69    -1.618273\n",
       "114    2.620117\n",
       "Name: Sales, dtype: float64"
      ]
     },
     "execution_count": 52,
     "metadata": {},
     "output_type": "execute_result"
    }
   ],
   "source": [
    "y_test-yhat"
   ]
  },
  {
   "cell_type": "code",
   "execution_count": 57,
   "id": "9ccb3629-1bf7-4d64-8732-2a2529a7ca6b",
   "metadata": {},
   "outputs": [],
   "source": [
    "tabl=(y_test-yhat)**2"
   ]
  },
  {
   "cell_type": "code",
   "execution_count": 59,
   "id": "01755e3b-2941-42ba-97f0-70b67dc4344e",
   "metadata": {},
   "outputs": [
    {
     "data": {
      "text/plain": [
       "2.6980676090188793"
      ]
     },
     "execution_count": 59,
     "metadata": {},
     "output_type": "execute_result"
    }
   ],
   "source": [
    "np.sum(tabl)/len(tabl)"
   ]
  },
  {
   "cell_type": "code",
   "execution_count": 60,
   "id": "0c95cb6e-a109-4c3e-9dd8-bc2f23a505f1",
   "metadata": {},
   "outputs": [],
   "source": [
    "from sklearn.metrics import mean_squared_error,mean_absolute_error,r2_score "
   ]
  },
  {
   "cell_type": "code",
   "execution_count": 61,
   "id": "922942a6-3f81-4981-affe-3727199f9efd",
   "metadata": {},
   "outputs": [
    {
     "data": {
      "text/plain": [
       "2.6980676090188793"
      ]
     },
     "execution_count": 61,
     "metadata": {},
     "output_type": "execute_result"
    }
   ],
   "source": [
    "mean_squared_error(yhat,y_test)"
   ]
  },
  {
   "cell_type": "code",
   "execution_count": 62,
   "id": "bd8d8ed1-4cbd-4553-a636-26d49366e5f0",
   "metadata": {},
   "outputs": [
    {
     "data": {
      "text/plain": [
       "1.2916750752642412"
      ]
     },
     "execution_count": 62,
     "metadata": {},
     "output_type": "execute_result"
    }
   ],
   "source": [
    "mean_absolute_error(yhat,y_test)"
   ]
  },
  {
   "cell_type": "code",
   "execution_count": 63,
   "id": "c82f5fbb-3ac9-4229-ad28-f6caa9b19f3c",
   "metadata": {},
   "outputs": [
    {
     "data": {
      "text/plain": [
       "0.8872315497030767"
      ]
     },
     "execution_count": 63,
     "metadata": {},
     "output_type": "execute_result"
    }
   ],
   "source": [
    "r2_score(yhat,y_test)"
   ]
  },
  {
   "cell_type": "code",
   "execution_count": null,
   "id": "e42ec26e-4842-4573-9876-7c8627e05003",
   "metadata": {},
   "outputs": [],
   "source": []
  }
 ],
 "metadata": {
  "kernelspec": {
   "display_name": "Python 3 (ipykernel)",
   "language": "python",
   "name": "python3"
  },
  "language_info": {
   "codemirror_mode": {
    "name": "ipython",
    "version": 3
   },
   "file_extension": ".py",
   "mimetype": "text/x-python",
   "name": "python",
   "nbconvert_exporter": "python",
   "pygments_lexer": "ipython3",
   "version": "3.11.6"
  }
 },
 "nbformat": 4,
 "nbformat_minor": 5
}
