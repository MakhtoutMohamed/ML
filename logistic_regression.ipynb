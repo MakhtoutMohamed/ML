{
 "cells": [
  {
   "cell_type": "code",
   "execution_count": 1,
   "id": "2588b16e-cf8e-40d2-bec6-10da731c3476",
   "metadata": {},
   "outputs": [],
   "source": [
    "from random import seed\n",
    "from random import random\n",
    "\n",
    "import matplotlib.pyplot as plt\n",
    "import numpy as np\n",
    "import pandas as pnd\n",
    "\n",
    "import matplotlib.colors as clr\n",
    "\n",
    "from sklearn.linear_model import LogisticRegression\n",
    "from sklearn.model_selection import train_test_split\n",
    "from sklearn.metrics import confusion_matrix, accuracy_score, precision_score, recall_score, f1_score"
   ]
  },
  {
   "cell_type": "code",
   "execution_count": 2,
   "id": "c2e80623-de14-47e5-bfbc-e3b622348ceb",
   "metadata": {},
   "outputs": [],
   "source": [
    "x=np.arange(1,10).reshape(-1,1)\n",
    "y=np.array([0,0,0,0,1,1,1,1,1])"
   ]
  },
  {
   "cell_type": "code",
   "execution_count": 3,
   "id": "3d632029-d7de-4fd0-a288-e4fc83e75c10",
   "metadata": {},
   "outputs": [
    {
     "data": {
      "text/plain": [
       "array([[1],\n",
       "       [2],\n",
       "       [3],\n",
       "       [4],\n",
       "       [5],\n",
       "       [6],\n",
       "       [7],\n",
       "       [8],\n",
       "       [9]])"
      ]
     },
     "execution_count": 3,
     "metadata": {},
     "output_type": "execute_result"
    }
   ],
   "source": [
    "x"
   ]
  },
  {
   "cell_type": "code",
   "execution_count": 4,
   "id": "9e0a3dc6-f7f0-4a89-ab7d-19821ab26dd5",
   "metadata": {},
   "outputs": [
    {
     "data": {
      "text/plain": [
       "(9, 1)"
      ]
     },
     "execution_count": 4,
     "metadata": {},
     "output_type": "execute_result"
    }
   ],
   "source": [
    "x.shape"
   ]
  },
  {
   "cell_type": "code",
   "execution_count": 5,
   "id": "ca97020a-afa3-4f6a-9c16-5d320538b71e",
   "metadata": {},
   "outputs": [
    {
     "data": {
      "text/html": [
       "<style>#sk-container-id-1 {color: black;}#sk-container-id-1 pre{padding: 0;}#sk-container-id-1 div.sk-toggleable {background-color: white;}#sk-container-id-1 label.sk-toggleable__label {cursor: pointer;display: block;width: 100%;margin-bottom: 0;padding: 0.3em;box-sizing: border-box;text-align: center;}#sk-container-id-1 label.sk-toggleable__label-arrow:before {content: \"▸\";float: left;margin-right: 0.25em;color: #696969;}#sk-container-id-1 label.sk-toggleable__label-arrow:hover:before {color: black;}#sk-container-id-1 div.sk-estimator:hover label.sk-toggleable__label-arrow:before {color: black;}#sk-container-id-1 div.sk-toggleable__content {max-height: 0;max-width: 0;overflow: hidden;text-align: left;background-color: #f0f8ff;}#sk-container-id-1 div.sk-toggleable__content pre {margin: 0.2em;color: black;border-radius: 0.25em;background-color: #f0f8ff;}#sk-container-id-1 input.sk-toggleable__control:checked~div.sk-toggleable__content {max-height: 200px;max-width: 100%;overflow: auto;}#sk-container-id-1 input.sk-toggleable__control:checked~label.sk-toggleable__label-arrow:before {content: \"▾\";}#sk-container-id-1 div.sk-estimator input.sk-toggleable__control:checked~label.sk-toggleable__label {background-color: #d4ebff;}#sk-container-id-1 div.sk-label input.sk-toggleable__control:checked~label.sk-toggleable__label {background-color: #d4ebff;}#sk-container-id-1 input.sk-hidden--visually {border: 0;clip: rect(1px 1px 1px 1px);clip: rect(1px, 1px, 1px, 1px);height: 1px;margin: -1px;overflow: hidden;padding: 0;position: absolute;width: 1px;}#sk-container-id-1 div.sk-estimator {font-family: monospace;background-color: #f0f8ff;border: 1px dotted black;border-radius: 0.25em;box-sizing: border-box;margin-bottom: 0.5em;}#sk-container-id-1 div.sk-estimator:hover {background-color: #d4ebff;}#sk-container-id-1 div.sk-parallel-item::after {content: \"\";width: 100%;border-bottom: 1px solid gray;flex-grow: 1;}#sk-container-id-1 div.sk-label:hover label.sk-toggleable__label {background-color: #d4ebff;}#sk-container-id-1 div.sk-serial::before {content: \"\";position: absolute;border-left: 1px solid gray;box-sizing: border-box;top: 0;bottom: 0;left: 50%;z-index: 0;}#sk-container-id-1 div.sk-serial {display: flex;flex-direction: column;align-items: center;background-color: white;padding-right: 0.2em;padding-left: 0.2em;position: relative;}#sk-container-id-1 div.sk-item {position: relative;z-index: 1;}#sk-container-id-1 div.sk-parallel {display: flex;align-items: stretch;justify-content: center;background-color: white;position: relative;}#sk-container-id-1 div.sk-item::before, #sk-container-id-1 div.sk-parallel-item::before {content: \"\";position: absolute;border-left: 1px solid gray;box-sizing: border-box;top: 0;bottom: 0;left: 50%;z-index: -1;}#sk-container-id-1 div.sk-parallel-item {display: flex;flex-direction: column;z-index: 1;position: relative;background-color: white;}#sk-container-id-1 div.sk-parallel-item:first-child::after {align-self: flex-end;width: 50%;}#sk-container-id-1 div.sk-parallel-item:last-child::after {align-self: flex-start;width: 50%;}#sk-container-id-1 div.sk-parallel-item:only-child::after {width: 0;}#sk-container-id-1 div.sk-dashed-wrapped {border: 1px dashed gray;margin: 0 0.4em 0.5em 0.4em;box-sizing: border-box;padding-bottom: 0.4em;background-color: white;}#sk-container-id-1 div.sk-label label {font-family: monospace;font-weight: bold;display: inline-block;line-height: 1.2em;}#sk-container-id-1 div.sk-label-container {text-align: center;}#sk-container-id-1 div.sk-container {/* jupyter's `normalize.less` sets `[hidden] { display: none; }` but bootstrap.min.css set `[hidden] { display: none !important; }` so we also need the `!important` here to be able to override the default hidden behavior on the sphinx rendered scikit-learn.org. See: https://github.com/scikit-learn/scikit-learn/issues/21755 */display: inline-block !important;position: relative;}#sk-container-id-1 div.sk-text-repr-fallback {display: none;}</style><div id=\"sk-container-id-1\" class=\"sk-top-container\"><div class=\"sk-text-repr-fallback\"><pre>LogisticRegression()</pre><b>In a Jupyter environment, please rerun this cell to show the HTML representation or trust the notebook. <br />On GitHub, the HTML representation is unable to render, please try loading this page with nbviewer.org.</b></div><div class=\"sk-container\" hidden><div class=\"sk-item\"><div class=\"sk-estimator sk-toggleable\"><input class=\"sk-toggleable__control sk-hidden--visually\" id=\"sk-estimator-id-1\" type=\"checkbox\" checked><label for=\"sk-estimator-id-1\" class=\"sk-toggleable__label sk-toggleable__label-arrow\">LogisticRegression</label><div class=\"sk-toggleable__content\"><pre>LogisticRegression()</pre></div></div></div></div></div>"
      ],
      "text/plain": [
       "LogisticRegression()"
      ]
     },
     "execution_count": 5,
     "metadata": {},
     "output_type": "execute_result"
    }
   ],
   "source": [
    "model=LogisticRegression()\n",
    "model.fit(x,y)"
   ]
  },
  {
   "cell_type": "code",
   "execution_count": 6,
   "id": "a916bf6c-4406-48ac-b531-d82df0f0a4da",
   "metadata": {},
   "outputs": [
    {
     "name": "stdout",
     "output_type": "stream",
     "text": [
      "[-5.29550199]\n"
     ]
    },
    {
     "data": {
      "text/plain": [
       "array([[1.17809125]])"
      ]
     },
     "execution_count": 6,
     "metadata": {},
     "output_type": "execute_result"
    }
   ],
   "source": [
    "print(model.intercept_)\n",
    "model.coef_"
   ]
  },
  {
   "cell_type": "code",
   "execution_count": 7,
   "id": "9e605cab-b391-4b7c-ae01-87ddd7c4c7e2",
   "metadata": {},
   "outputs": [],
   "source": [
    "def sigmoid(z):\n",
    "    return 1/(1+np.exp(-z))"
   ]
  },
  {
   "cell_type": "code",
   "execution_count": 8,
   "id": "a578b20a-d4fa-48fa-b59b-1cee1fcd2c47",
   "metadata": {},
   "outputs": [
    {
     "data": {
      "text/plain": [
       "(-5.2955019876514, 1.1780912464363948)"
      ]
     },
     "execution_count": 8,
     "metadata": {},
     "output_type": "execute_result"
    }
   ],
   "source": [
    "bias=model.intercept_[0]\n",
    "w1=model.coef_[0][0]\n",
    "bias,w1"
   ]
  },
  {
   "cell_type": "code",
   "execution_count": 9,
   "id": "ec19206e-48a7-4a4b-9185-a9701ee3bb87",
   "metadata": {},
   "outputs": [],
   "source": [
    "z=bias+w1*x"
   ]
  },
  {
   "cell_type": "code",
   "execution_count": 10,
   "id": "f3cd30df-71d4-4834-9593-d76917329de2",
   "metadata": {},
   "outputs": [
    {
     "data": {
      "text/plain": [
       "array([[0.01602563],\n",
       "       [0.05024374],\n",
       "       [0.14663658],\n",
       "       [0.35821109],\n",
       "       [0.64450107],\n",
       "       [0.854836  ],\n",
       "       [0.95031719],\n",
       "       [0.98415966],\n",
       "       [0.99506924]])"
      ]
     },
     "execution_count": 10,
     "metadata": {},
     "output_type": "execute_result"
    }
   ],
   "source": [
    "sigmoid(z)"
   ]
  },
  {
   "cell_type": "code",
   "execution_count": 11,
   "id": "de1e5dfb-71da-47ce-9917-08631884ea56",
   "metadata": {},
   "outputs": [
    {
     "data": {
      "text/plain": [
       "array([0, 1])"
      ]
     },
     "execution_count": 11,
     "metadata": {},
     "output_type": "execute_result"
    }
   ],
   "source": [
    "model.classes_"
   ]
  },
  {
   "cell_type": "code",
   "execution_count": 12,
   "id": "231980d0-41df-4587-bf5a-eea0fac377c1",
   "metadata": {},
   "outputs": [
    {
     "data": {
      "text/plain": [
       "array([0, 0, 0, 0, 1, 1, 1, 1, 1])"
      ]
     },
     "execution_count": 12,
     "metadata": {},
     "output_type": "execute_result"
    }
   ],
   "source": [
    "model.predict(x)"
   ]
  },
  {
   "cell_type": "code",
   "execution_count": 13,
   "id": "2002a6fc-27db-4051-bb6a-463d6426321f",
   "metadata": {},
   "outputs": [
    {
     "data": {
      "text/plain": [
       "array([[0.98397437, 0.01602563],\n",
       "       [0.94975626, 0.05024374],\n",
       "       [0.85336342, 0.14663658],\n",
       "       [0.64178891, 0.35821109],\n",
       "       [0.35549893, 0.64450107],\n",
       "       [0.145164  , 0.854836  ],\n",
       "       [0.04968281, 0.95031719],\n",
       "       [0.01584034, 0.98415966],\n",
       "       [0.00493076, 0.99506924]])"
      ]
     },
     "execution_count": 13,
     "metadata": {},
     "output_type": "execute_result"
    }
   ],
   "source": [
    "model.predict_proba(x)"
   ]
  },
  {
   "cell_type": "code",
   "execution_count": 14,
   "id": "5d51edd5-e80b-417c-8192-c8c2cbecb24e",
   "metadata": {},
   "outputs": [],
   "source": [
    "def f(x):\n",
    "    return -x+5"
   ]
  },
  {
   "cell_type": "code",
   "execution_count": 15,
   "id": "32c3ab9a-efb1-47ef-a84d-0f3c23bd8a84",
   "metadata": {},
   "outputs": [],
   "source": [
    "def generateData(n):\n",
    "    seed(1)\n",
    "    min=0\n",
    "    max=5\n",
    "    L=[]\n",
    "    for _ in range(n):\n",
    "        valueX=random()\n",
    "        scaledvalueX=min+(valueX*(max-min))\n",
    "        valueY=random()\n",
    "        scaledvalueY=min+(valueY*(max-min))\n",
    "        x=round(scaledvalueX,1)\n",
    "        y=round(scaledvalueY,1)\n",
    "        y0=f(x)\n",
    "        cl=0\n",
    "        if(y>y0):\n",
    "            cl=1\n",
    "        L.append([x,y,cl])\n",
    "    return L"
   ]
  },
  {
   "cell_type": "code",
   "execution_count": 16,
   "id": "6b5f7eb0-eb8c-4b0e-83cd-aceace3f3c01",
   "metadata": {},
   "outputs": [],
   "source": [
    "data=generateData(100)\n",
    "data=np.array(data)\n",
    "X1=data[:,0]\n",
    "X2=data[:,1]\n",
    "C=data[:,2]"
   ]
  },
  {
   "cell_type": "code",
   "execution_count": 17,
   "id": "143114a7-6411-4371-9da5-a4d8a796d129",
   "metadata": {},
   "outputs": [
    {
     "data": {
      "text/plain": [
       "array([[0.7, 4.2, 0. ],\n",
       "       [3.8, 1.3, 1. ],\n",
       "       [2.5, 2.2, 0. ],\n",
       "       [3.3, 3.9, 1. ],\n",
       "       [0.5, 0.1, 0. ],\n",
       "       [4.2, 2.2, 1. ],\n",
       "       [3.8, 0. , 0. ],\n",
       "       [2.2, 3.6, 1. ],\n",
       "       [1.1, 4.7, 1. ],\n",
       "       [4.5, 0.2, 0. ],\n",
       "       [0.1, 2.7, 0. ],\n",
       "       [4.7, 1.9, 1. ],\n",
       "       [1.1, 2.1, 0. ],\n",
       "       [0.1, 1.1, 0. ],\n",
       "       [2.2, 2.5, 0. ],\n",
       "       [1.2, 1.2, 0. ],\n",
       "       [1.1, 2.3, 0. ],\n",
       "       [1.4, 0.1, 0. ],\n",
       "       [4.2, 2.8, 1. ],\n",
       "       [3.2, 0.9, 0. ],\n",
       "       [5. , 4.3, 1. ],\n",
       "       [0.6, 1.7, 0. ],\n",
       "       [3.6, 3.6, 1. ],\n",
       "       [4.7, 2.1, 1. ],\n",
       "       [4.2, 3.4, 1. ],\n",
       "       [1.5, 2.9, 0. ],\n",
       "       [4.4, 4.2, 1. ],\n",
       "       [2.5, 2.9, 1. ],\n",
       "       [0.2, 1.2, 0. ],\n",
       "       [4. , 2.1, 1. ],\n",
       "       [0.9, 2.7, 0. ],\n",
       "       [3.5, 3.4, 1. ],\n",
       "       [1.9, 2.2, 0. ],\n",
       "       [2.5, 3.9, 1. ],\n",
       "       [2.6, 2. , 0. ],\n",
       "       [2.4, 0.1, 0. ],\n",
       "       [0.2, 3.5, 0. ],\n",
       "       [4.9, 3. , 1. ],\n",
       "       [2. , 0.9, 0. ],\n",
       "       [2.5, 4.9, 1. ],\n",
       "       [3.9, 2.7, 1. ],\n",
       "       [4.3, 1.2, 1. ],\n",
       "       [2.6, 4.8, 1. ],\n",
       "       [2.9, 2.3, 1. ],\n",
       "       [1.3, 2.7, 0. ],\n",
       "       [4.8, 0. , 0. ],\n",
       "       [3.9, 4.1, 1. ],\n",
       "       [4.4, 3.7, 1. ],\n",
       "       [4. , 2.6, 1. ],\n",
       "       [2.8, 2.1, 0. ],\n",
       "       [0.3, 4.4, 0. ],\n",
       "       [2.8, 1. , 0. ],\n",
       "       [2.5, 2.4, 0. ],\n",
       "       [1.8, 1.7, 0. ],\n",
       "       [2.7, 3.1, 1. ],\n",
       "       [3.1, 2.3, 1. ],\n",
       "       [0.1, 1.1, 0. ],\n",
       "       [0.9, 2.9, 0. ],\n",
       "       [4.3, 4. , 1. ],\n",
       "       [4. , 4.1, 1. ],\n",
       "       [1.3, 4.2, 1. ],\n",
       "       [3.4, 0.4, 0. ],\n",
       "       [0.1, 0.1, 0. ],\n",
       "       [3.8, 1.2, 0. ],\n",
       "       [0.5, 3.1, 0. ],\n",
       "       [1.7, 0.3, 0. ],\n",
       "       [0.8, 2.6, 0. ],\n",
       "       [0.8, 1.4, 0. ],\n",
       "       [3.6, 2.3, 1. ],\n",
       "       [1.6, 2.4, 0. ],\n",
       "       [0.1, 1.9, 0. ],\n",
       "       [2.1, 0.9, 0. ],\n",
       "       [0.5, 4.5, 0. ],\n",
       "       [2.6, 1. , 0. ],\n",
       "       [3. , 4.1, 1. ],\n",
       "       [0.1, 0.1, 0. ],\n",
       "       [0.7, 3.6, 0. ],\n",
       "       [0.8, 3.5, 0. ],\n",
       "       [3.4, 2.7, 1. ],\n",
       "       [1.1, 4.9, 1. ],\n",
       "       [4. , 2.6, 1. ],\n",
       "       [1.1, 3.2, 0. ],\n",
       "       [2. , 2.9, 0. ],\n",
       "       [1.6, 3.2, 0. ],\n",
       "       [0.3, 1.5, 0. ],\n",
       "       [4.8, 4.4, 1. ],\n",
       "       [1.5, 4.3, 1. ],\n",
       "       [1.6, 4.7, 1. ],\n",
       "       [3.7, 2.1, 1. ],\n",
       "       [1.3, 0. , 0. ],\n",
       "       [4.4, 0.2, 0. ],\n",
       "       [4.1, 4.8, 1. ],\n",
       "       [2.9, 0.9, 0. ],\n",
       "       [4.3, 4.9, 1. ],\n",
       "       [3.5, 2.5, 1. ],\n",
       "       [1.9, 1.7, 0. ],\n",
       "       [1. , 3.4, 0. ],\n",
       "       [2.2, 1. , 0. ],\n",
       "       [0.5, 3.3, 0. ],\n",
       "       [1.5, 2.5, 0. ]])"
      ]
     },
     "execution_count": 17,
     "metadata": {},
     "output_type": "execute_result"
    }
   ],
   "source": [
    "data"
   ]
  },
  {
   "cell_type": "code",
   "execution_count": 21,
   "id": "f1fbf9d9-b9a6-45b3-9af0-0fa454dc22ca",
   "metadata": {},
   "outputs": [
    {
     "data": {
      "text/plain": [
       "<matplotlib.collections.PathCollection at 0x7fe8f1504c50>"
      ]
     },
     "execution_count": 21,
     "metadata": {},
     "output_type": "execute_result"
    },
    {
     "data": {
      "image/png": "[encoded data removed]",
      "text/plain": [
       "<Figure size 640x480 with 1 Axes>"
      ]
     },
     "metadata": {},
     "output_type": "display_data"
    }
   ],
   "source": [
    "colors = ['red','blue']\n",
    "plt.scatter(X1,X2,c=C,cmap=clr.ListedColormap(colors))"
   ]
  },
  {
   "cell_type": "code",
   "execution_count": 23,
   "id": "f3c26bef-f60a-44e7-af67-b8cd0b92b4e7",
   "metadata": {},
   "outputs": [],
   "source": [
    "X=data[:,:2]\n",
    "y=data[:,2]\n",
    "X_train,X_test,y_train,y_test = train_test_split(X,y,test_size=0.2)"
   ]
  },
  {
   "cell_type": "code",
   "execution_count": 25,
   "id": "8c7b4216-34ab-4d39-9b8f-c844abbd76b8",
   "metadata": {},
   "outputs": [
    {
     "data": {
      "text/html": [
       "<style>#sk-container-id-2 {color: black;}#sk-container-id-2 pre{padding: 0;}#sk-container-id-2 div.sk-toggleable {background-color: white;}#sk-container-id-2 label.sk-toggleable__label {cursor: pointer;display: block;width: 100%;margin-bottom: 0;padding: 0.3em;box-sizing: border-box;text-align: center;}#sk-container-id-2 label.sk-toggleable__label-arrow:before {content: \"▸\";float: left;margin-right: 0.25em;color: #696969;}#sk-container-id-2 label.sk-toggleable__label-arrow:hover:before {color: black;}#sk-container-id-2 div.sk-estimator:hover label.sk-toggleable__label-arrow:before {color: black;}#sk-container-id-2 div.sk-toggleable__content {max-height: 0;max-width: 0;overflow: hidden;text-align: left;background-color: #f0f8ff;}#sk-container-id-2 div.sk-toggleable__content pre {margin: 0.2em;color: black;border-radius: 0.25em;background-color: #f0f8ff;}#sk-container-id-2 input.sk-toggleable__control:checked~div.sk-toggleable__content {max-height: 200px;max-width: 100%;overflow: auto;}#sk-container-id-2 input.sk-toggleable__control:checked~label.sk-toggleable__label-arrow:before {content: \"▾\";}#sk-container-id-2 div.sk-estimator input.sk-toggleable__control:checked~label.sk-toggleable__label {background-color: #d4ebff;}#sk-container-id-2 div.sk-label input.sk-toggleable__control:checked~label.sk-toggleable__label {background-color: #d4ebff;}#sk-container-id-2 input.sk-hidden--visually {border: 0;clip: rect(1px 1px 1px 1px);clip: rect(1px, 1px, 1px, 1px);height: 1px;margin: -1px;overflow: hidden;padding: 0;position: absolute;width: 1px;}#sk-container-id-2 div.sk-estimator {font-family: monospace;background-color: #f0f8ff;border: 1px dotted black;border-radius: 0.25em;box-sizing: border-box;margin-bottom: 0.5em;}#sk-container-id-2 div.sk-estimator:hover {background-color: #d4ebff;}#sk-container-id-2 div.sk-parallel-item::after {content: \"\";width: 100%;border-bottom: 1px solid gray;flex-grow: 1;}#sk-container-id-2 div.sk-label:hover label.sk-toggleable__label {background-color: #d4ebff;}#sk-container-id-2 div.sk-serial::before {content: \"\";position: absolute;border-left: 1px solid gray;box-sizing: border-box;top: 0;bottom: 0;left: 50%;z-index: 0;}#sk-container-id-2 div.sk-serial {display: flex;flex-direction: column;align-items: center;background-color: white;padding-right: 0.2em;padding-left: 0.2em;position: relative;}#sk-container-id-2 div.sk-item {position: relative;z-index: 1;}#sk-container-id-2 div.sk-parallel {display: flex;align-items: stretch;justify-content: center;background-color: white;position: relative;}#sk-container-id-2 div.sk-item::before, #sk-container-id-2 div.sk-parallel-item::before {content: \"\";position: absolute;border-left: 1px solid gray;box-sizing: border-box;top: 0;bottom: 0;left: 50%;z-index: -1;}#sk-container-id-2 div.sk-parallel-item {display: flex;flex-direction: column;z-index: 1;position: relative;background-color: white;}#sk-container-id-2 div.sk-parallel-item:first-child::after {align-self: flex-end;width: 50%;}#sk-container-id-2 div.sk-parallel-item:last-child::after {align-self: flex-start;width: 50%;}#sk-container-id-2 div.sk-parallel-item:only-child::after {width: 0;}#sk-container-id-2 div.sk-dashed-wrapped {border: 1px dashed gray;margin: 0 0.4em 0.5em 0.4em;box-sizing: border-box;padding-bottom: 0.4em;background-color: white;}#sk-container-id-2 div.sk-label label {font-family: monospace;font-weight: bold;display: inline-block;line-height: 1.2em;}#sk-container-id-2 div.sk-label-container {text-align: center;}#sk-container-id-2 div.sk-container {/* jupyter's `normalize.less` sets `[hidden] { display: none; }` but bootstrap.min.css set `[hidden] { display: none !important; }` so we also need the `!important` here to be able to override the default hidden behavior on the sphinx rendered scikit-learn.org. See: https://github.com/scikit-learn/scikit-learn/issues/21755 */display: inline-block !important;position: relative;}#sk-container-id-2 div.sk-text-repr-fallback {display: none;}</style><div id=\"sk-container-id-2\" class=\"sk-top-container\"><div class=\"sk-text-repr-fallback\"><pre>LogisticRegression()</pre><b>In a Jupyter environment, please rerun this cell to show the HTML representation or trust the notebook. <br />On GitHub, the HTML representation is unable to render, please try loading this page with nbviewer.org.</b></div><div class=\"sk-container\" hidden><div class=\"sk-item\"><div class=\"sk-estimator sk-toggleable\"><input class=\"sk-toggleable__control sk-hidden--visually\" id=\"sk-estimator-id-2\" type=\"checkbox\" checked><label for=\"sk-estimator-id-2\" class=\"sk-toggleable__label sk-toggleable__label-arrow\">LogisticRegression</label><div class=\"sk-toggleable__content\"><pre>LogisticRegression()</pre></div></div></div></div></div>"
      ],
      "text/plain": [
       "LogisticRegression()"
      ]
     },
     "execution_count": 25,
     "metadata": {},
     "output_type": "execute_result"
    }
   ],
   "source": [
    "model=LogisticRegression()\n",
    "\n",
    "model.fit(X_train,y_train)"
   ]
  },
  {
   "cell_type": "code",
   "execution_count": 35,
   "id": "6f1acfa0-f709-4943-be0f-c352ee978210",
   "metadata": {},
   "outputs": [],
   "source": [
    "bias=model.intercept_[0]"
   ]
  },
  {
   "cell_type": "code",
   "execution_count": 38,
   "id": "72faf440-e7f9-487c-9a24-c185833688b5",
   "metadata": {},
   "outputs": [],
   "source": [
    "w1,w2=model.coef_[0][0],model.coef_[0][1]"
   ]
  },
  {
   "cell_type": "code",
   "execution_count": 42,
   "id": "d381de5d-80b4-425d-950c-7ec828f38e80",
   "metadata": {},
   "outputs": [
    {
     "data": {
      "text/plain": [
       "(-11.629845808025728, 2.352837756843742, 2.1167524203158545)"
      ]
     },
     "execution_count": 42,
     "metadata": {},
     "output_type": "execute_result"
    }
   ],
   "source": [
    "bias,w1,w2"
   ]
  },
  {
   "cell_type": "code",
   "execution_count": 43,
   "id": "69d13ae6-095d-4930-b633-492f877b55a5",
   "metadata": {},
   "outputs": [],
   "source": [
    "yhat=model.predict(X_test)"
   ]
  },
  {
   "cell_type": "code",
   "execution_count": 44,
   "id": "277bca31-5e2d-4596-9de6-ebae96849d93",
   "metadata": {},
   "outputs": [],
   "source": [
    "cm=confusion_matrix(y_test,yhat)\n",
    "accuracy=accuracy_score(y_test, yhat)\n",
    "precision=precision_score(y_test,yhat)\n",
    "recall=recall_score(y_test,yhat)\n",
    "f1=f1_score(y_test,yhat)"
   ]
  },
  {
   "cell_type": "code",
   "execution_count": 45,
   "id": "07cf3a0a-781b-4ebc-90fb-aa63082d5a1c",
   "metadata": {},
   "outputs": [
    {
     "name": "stdout",
     "output_type": "stream",
     "text": [
      "1.0\n"
     ]
    }
   ],
   "source": [
    "print(accuracy)"
   ]
  },
  {
   "cell_type": "code",
   "execution_count": 48,
   "id": "701ba881-8fb8-4d4c-be54-c394156fe6f6",
   "metadata": {},
   "outputs": [],
   "source": [
    "def getY(X1):\n",
    "    return -w1/w2*X1-bias/w2"
   ]
  },
  {
   "cell_type": "code",
   "execution_count": 49,
   "id": "5283f6c6-b53c-4877-9b15-2d74407d27b8",
   "metadata": {},
   "outputs": [],
   "source": [
    "yFive=getY(X1)"
   ]
  },
  {
   "cell_type": "code",
   "execution_count": 52,
   "id": "e4a6ea9b-d96b-4926-8e9f-fe634a507c97",
   "metadata": {},
   "outputs": [
    {
     "data": {
      "text/plain": [
       "[<matplotlib.lines.Line2D at 0x7fe8eee5b9d0>]"
      ]
     },
     "execution_count": 52,
     "metadata": {},
     "output_type": "execute_result"
    },
    {
     "data": {
      "image/png": "[encoded data removed]",
      "text/plain": [
       "<Figure size 640x480 with 1 Axes>"
      ]
     },
     "metadata": {},
     "output_type": "display_data"
    }
   ],
   "source": [
    "colors = ['red','blue']\n",
    "plt.scatter(X1,X2,c=C,cmap=clr.ListedColormap(colors))\n",
    "plt.plot(X1,yFive,color=\"g\")"
   ]
  },
  {
   "cell_type": "code",
   "execution_count": 53,
   "id": "ec2f90a6-6460-4088-a979-33c3ece77cfc",
   "metadata": {},
   "outputs": [],
   "source": [
    "yhat=model.predict(X_test)"
   ]
  },
  {
   "cell_type": "code",
   "execution_count": 54,
   "id": "256a230f-b3bd-4e37-a3dd-b4b5269807b1",
   "metadata": {},
   "outputs": [
    {
     "data": {
      "text/plain": [
       "array([0., 1., 0., 0., 1., 1., 1., 0., 1., 1., 0., 1., 1., 1., 0., 0., 0.,\n",
       "       0., 0., 0.])"
      ]
     },
     "execution_count": 54,
     "metadata": {},
     "output_type": "execute_result"
    }
   ],
   "source": [
    "yhat"
   ]
  },
  {
   "cell_type": "code",
   "execution_count": 56,
   "id": "8b24b887-ca56-4ec0-b76c-53d2dfbf64ed",
   "metadata": {},
   "outputs": [
    {
     "data": {
      "text/plain": [
       "array([0., 1., 0., 0., 1., 1., 1., 0., 1., 1., 0., 1., 1., 1., 0., 0., 0.,\n",
       "       0., 0., 0.])"
      ]
     },
     "execution_count": 56,
     "metadata": {},
     "output_type": "execute_result"
    }
   ],
   "source": [
    "y_test"
   ]
  },
  {
   "cell_type": "code",
   "execution_count": 57,
   "id": "d9faceb5-bc1a-4e02-8559-ce07994f71de",
   "metadata": {},
   "outputs": [
    {
     "data": {
      "text/plain": [
       "array([0., 2., 0., 0., 2., 2., 2., 0., 2., 2., 0., 2., 2., 2., 0., 0., 0.,\n",
       "       0., 0., 0.])"
      ]
     },
     "execution_count": 57,
     "metadata": {},
     "output_type": "execute_result"
    }
   ],
   "source": [
    "yhat+y_test"
   ]
  },
  {
   "cell_type": "code",
   "execution_count": null,
   "id": "e7963fa3-8206-440a-821b-8baa613a5c8d",
   "metadata": {},
   "outputs": [],
   "source": [
    "#####################################"
   ]
  },
  {
   "cell_type": "code",
   "execution_count": 3,
   "id": "8a61c304-4618-4c48-bb52-7bacb35f38a3",
   "metadata": {},
   "outputs": [
    {
     "data": {
      "text/plain": [
       "array([0.73105858, 0.88079708, 0.95257413])"
      ]
     },
     "execution_count": 3,
     "metadata": {},
     "output_type": "execute_result"
    }
   ],
   "source": [
    "A=np.array([1,2,3])\n",
    "B=np.exp(-A)\n",
    "1/(1+B)"
   ]
  },
  {
   "cell_type": "code",
   "execution_count": 4,
   "id": "de8efe58-f072-40e6-a01c-33bc6383c7b6",
   "metadata": {},
   "outputs": [],
   "source": [
    "bias,w1=0,1\n",
    "def sigmoid(X):\n",
    "    Z=bias+w1*X\n",
    "    return 1/(1+np.exp(-Z))"
   ]
  },
  {
   "cell_type": "code",
   "execution_count": 5,
   "id": "e66313ed-0c3b-4a78-b211-99fe14a00ac1",
   "metadata": {},
   "outputs": [
    {
     "data": {
      "text/plain": [
       "array([0.73105858, 0.88079708, 0.95257413, 0.98201379, 0.99330715,\n",
       "       0.99752738, 0.99908895, 0.99966465, 0.99987661])"
      ]
     },
     "execution_count": 5,
     "metadata": {},
     "output_type": "execute_result"
    }
   ],
   "source": [
    "sigmoid(np.array([1,2,3,4,5,6,7,8,9]))"
   ]
  },
  {
   "cell_type": "code",
   "execution_count": null,
   "id": "a76eb0f0-ca02-4905-a862-de199357dda9",
   "metadata": {},
   "outputs": [],
   "source": []
  }
 ],
 "metadata": {
  "kernelspec": {
   "display_name": "Python 3 (ipykernel)",
   "language": "python",
   "name": "python3"
  },
  "language_info": {
   "codemirror_mode": {
    "name": "ipython",
    "version": 3
   },
   "file_extension": ".py",
   "mimetype": "text/x-python",
   "name": "python",
   "nbconvert_exporter": "python",
   "pygments_lexer": "ipython3",
   "version": "3.11.6"
  }
 },
 "nbformat": 4,
 "nbformat_minor": 5
}
