{
 "cells": [
  {
   "cell_type": "code",
   "execution_count": 3,
   "id": "ac66b20b-4729-4764-9119-fe13a296c7c1",
   "metadata": {},
   "outputs": [],
   "source": [
    "import numpy as np"
   ]
  },
  {
   "cell_type": "code",
   "execution_count": 4,
   "id": "965d1d62-e471-4bab-bf4a-7e3315efc1f5",
   "metadata": {},
   "outputs": [],
   "source": [
    "X=np.array([1,2,3,4])\n",
    "y=np.array([4,7,10,13])"
   ]
  },
  {
   "cell_type": "code",
   "execution_count": 5,
   "id": "a4629228-9297-43b7-8818-b97724c1bd2f",
   "metadata": {},
   "outputs": [],
   "source": [
    "w1=0\n",
    "w1_list=[]\n",
    "n_models=0\n",
    "while n_models<61:\n",
    "    w1=round(w1,2)\n",
    "    w1_list.append(w1)\n",
    "    w1=w1+0.1\n",
    "    n_models=n_models+1"
   ]
  },
  {
   "cell_type": "code",
   "execution_count": 6,
   "id": "829977e4-c25a-4eb2-8ea8-f4fb06c10a25",
   "metadata": {},
   "outputs": [
    {
     "name": "stdout",
     "output_type": "stream",
     "text": [
      "model(1,0)--->yhat:[1 1 1 1]error:[ 3  6  9 12]model(1,0.1)--->yhat:[1.1 1.2 1.3 1.4]error:[ 2.9  5.8  8.7 11.6]model(1,0.2)--->yhat:[1.2 1.4 1.6 1.8]error:[ 2.8  5.6  8.4 11.2]model(1,0.3)--->yhat:[1.3 1.6 1.9 2.2]error:[ 2.7  5.4  8.1 10.8]model(1,0.4)--->yhat:[1.4 1.8 2.2 2.6]error:[ 2.6  5.2  7.8 10.4]model(1,0.5)--->yhat:[1.5 2.  2.5 3. ]error:[ 2.5  5.   7.5 10. ]model(1,0.6)--->yhat:[1.6 2.2 2.8 3.4]error:[2.4 4.8 7.2 9.6]model(1,0.7)--->yhat:[1.7 2.4 3.1 3.8]error:[2.3 4.6 6.9 9.2]model(1,0.8)--->yhat:[1.8 2.6 3.4 4.2]error:[2.2 4.4 6.6 8.8]model(1,0.9)--->yhat:[1.9 2.8 3.7 4.6]error:[2.1 4.2 6.3 8.4]model(1,1.0)--->yhat:[2. 3. 4. 5.]error:[2. 4. 6. 8.]model(1,1.1)--->yhat:[2.1 3.2 4.3 5.4]error:[1.9 3.8 5.7 7.6]model(1,1.2)--->yhat:[2.2 3.4 4.6 5.8]error:[1.8 3.6 5.4 7.2]model(1,1.3)--->yhat:[2.3 3.6 4.9 6.2]error:[1.7 3.4 5.1 6.8]model(1,1.4)--->yhat:[2.4 3.8 5.2 6.6]error:[1.6 3.2 4.8 6.4]model(1,1.5)--->yhat:[2.5 4.  5.5 7. ]error:[1.5 3.  4.5 6. ]model(1,1.6)--->yhat:[2.6 4.2 5.8 7.4]error:[1.4 2.8 4.2 5.6]model(1,1.7)--->yhat:[2.7 4.4 6.1 7.8]error:[1.3 2.6 3.9 5.2]model(1,1.8)--->yhat:[2.8 4.6 6.4 8.2]error:[1.2 2.4 3.6 4.8]model(1,1.9)--->yhat:[2.9 4.8 6.7 8.6]error:[1.1 2.2 3.3 4.4]model(1,2.0)--->yhat:[3. 5. 7. 9.]error:[1. 2. 3. 4.]model(1,2.1)--->yhat:[3.1 5.2 7.3 9.4]error:[0.9 1.8 2.7 3.6]model(1,2.2)--->yhat:[3.2 5.4 7.6 9.8]error:[0.8 1.6 2.4 3.2]model(1,2.3)--->yhat:[ 3.3  5.6  7.9 10.2]error:[0.7 1.4 2.1 2.8]model(1,2.4)--->yhat:[ 3.4  5.8  8.2 10.6]error:[0.6 1.2 1.8 2.4]model(1,2.5)--->yhat:[ 3.5  6.   8.5 11. ]error:[0.5 1.  1.5 2. ]model(1,2.6)--->yhat:[ 3.6  6.2  8.8 11.4]error:[0.4 0.8 1.2 1.6]model(1,2.7)--->yhat:[ 3.7  6.4  9.1 11.8]error:[0.3 0.6 0.9 1.2]model(1,2.8)--->yhat:[ 3.8  6.6  9.4 12.2]error:[0.2 0.4 0.6 0.8]model(1,2.9)--->yhat:[ 3.9  6.8  9.7 12.6]error:[0.1 0.2 0.3 0.4]model(1,3.0)--->yhat:[ 4.  7. 10. 13.]error:[0. 0. 0. 0.]model(1,3.1)--->yhat:[ 4.1  7.2 10.3 13.4]error:[-0.1 -0.2 -0.3 -0.4]model(1,3.2)--->yhat:[ 4.2  7.4 10.6 13.8]error:[-0.2 -0.4 -0.6 -0.8]model(1,3.3)--->yhat:[ 4.3  7.6 10.9 14.2]error:[-0.3 -0.6 -0.9 -1.2]model(1,3.4)--->yhat:[ 4.4  7.8 11.2 14.6]error:[-0.4 -0.8 -1.2 -1.6]model(1,3.5)--->yhat:[ 4.5  8.  11.5 15. ]error:[-0.5 -1.  -1.5 -2. ]model(1,3.6)--->yhat:[ 4.6  8.2 11.8 15.4]error:[-0.6 -1.2 -1.8 -2.4]model(1,3.7)--->yhat:[ 4.7  8.4 12.1 15.8]error:[-0.7 -1.4 -2.1 -2.8]model(1,3.8)--->yhat:[ 4.8  8.6 12.4 16.2]error:[-0.8 -1.6 -2.4 -3.2]model(1,3.9)--->yhat:[ 4.9  8.8 12.7 16.6]error:[-0.9 -1.8 -2.7 -3.6]model(1,4.0)--->yhat:[ 5.  9. 13. 17.]error:[-1. -2. -3. -4.]model(1,4.1)--->yhat:[ 5.1  9.2 13.3 17.4]error:[-1.1 -2.2 -3.3 -4.4]model(1,4.2)--->yhat:[ 5.2  9.4 13.6 17.8]error:[-1.2 -2.4 -3.6 -4.8]model(1,4.3)--->yhat:[ 5.3  9.6 13.9 18.2]error:[-1.3 -2.6 -3.9 -5.2]model(1,4.4)--->yhat:[ 5.4  9.8 14.2 18.6]error:[-1.4 -2.8 -4.2 -5.6]model(1,4.5)--->yhat:[ 5.5 10.  14.5 19. ]error:[-1.5 -3.  -4.5 -6. ]model(1,4.6)--->yhat:[ 5.6 10.2 14.8 19.4]error:[-1.6 -3.2 -4.8 -6.4]model(1,4.7)--->yhat:[ 5.7 10.4 15.1 19.8]error:[-1.7 -3.4 -5.1 -6.8]model(1,4.8)--->yhat:[ 5.8 10.6 15.4 20.2]error:[-1.8 -3.6 -5.4 -7.2]model(1,4.9)--->yhat:[ 5.9 10.8 15.7 20.6]error:[-1.9 -3.8 -5.7 -7.6]model(1,5.0)--->yhat:[ 6. 11. 16. 21.]error:[-2. -4. -6. -8.]model(1,5.1)--->yhat:[ 6.1 11.2 16.3 21.4]error:[-2.1 -4.2 -6.3 -8.4]model(1,5.2)--->yhat:[ 6.2 11.4 16.6 21.8]error:[-2.2 -4.4 -6.6 -8.8]model(1,5.3)--->yhat:[ 6.3 11.6 16.9 22.2]error:[-2.3 -4.6 -6.9 -9.2]model(1,5.4)--->yhat:[ 6.4 11.8 17.2 22.6]error:[-2.4 -4.8 -7.2 -9.6]model(1,5.5)--->yhat:[ 6.5 12.  17.5 23. ]error:[ -2.5  -5.   -7.5 -10. ]model(1,5.6)--->yhat:[ 6.6 12.2 17.8 23.4]error:[ -2.6  -5.2  -7.8 -10.4]model(1,5.7)--->yhat:[ 6.7 12.4 18.1 23.8]error:[ -2.7  -5.4  -8.1 -10.8]model(1,5.8)--->yhat:[ 6.8 12.6 18.4 24.2]error:[ -2.8  -5.6  -8.4 -11.2]model(1,5.9)--->yhat:[ 6.9 12.8 18.7 24.6]error:[ -2.9  -5.8  -8.7 -11.6]model(1,6.0)--->yhat:[ 7. 13. 19. 25.]error:[ -3.  -6.  -9. -12.]"
     ]
    }
   ],
   "source": [
    "bias=1\n",
    "for w1 in w1_list:\n",
    "    yhat=bias+w1*X\n",
    "    print(f\"model({bias},{w1})--->yhat:{yhat}\", end=\"\")\n",
    "    error=y-yhat\n",
    "    print(f\"error:{np.round(error,2)}\", end=\"\")\n",
    "    squared_error=erroe**2\n",
    "    print(f\"squared error:{np.round(squared_error,2)}\", end=\"\")\n",
    "    mse=(1/len(error))*np.sum(squared_error)\n",
    "    print(f\"mse\")"
   ]
  },
  {
   "cell_type": "code",
   "execution_count": null,
   "id": "35384802-0e2b-491e-bfc6-5372b8b14a25",
   "metadata": {},
   "outputs": [],
   "source": []
  }
 ],
 "metadata": {
  "kernelspec": {
   "display_name": "Python 3 (ipykernel)",
   "language": "python",
   "name": "python3"
  },
  "language_info": {
   "codemirror_mode": {
    "name": "ipython",
    "version": 3
   },
   "file_extension": ".py",
   "mimetype": "text/x-python",
   "name": "python",
   "nbconvert_exporter": "python",
   "pygments_lexer": "ipython3",
   "version": "3.11.6"
  }
 },
 "nbformat": 4,
 "nbformat_minor": 5
}
