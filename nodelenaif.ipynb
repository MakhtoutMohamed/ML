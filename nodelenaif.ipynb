{
 "cells": [
  {
   "cell_type": "code",
   "execution_count": 1,
   "id": "04beff80-2778-4341-b9fe-e79658ad6f74",
   "metadata": {},
   "outputs": [],
   "source": [
    "import numpy as np"
   ]
  },
  {
   "cell_type": "code",
   "execution_count": 2,
   "id": "1a7b1e64-161a-438d-be68-9d96eb98bf95",
   "metadata": {},
   "outputs": [],
   "source": [
    "X=np.array([1,2,3,4])\n",
    "y=np.array([4,7,10,13])"
   ]
  },
  {
   "cell_type": "code",
   "execution_count": 3,
   "id": "26547755-698d-4633-9cd6-e4bd9fb7f97a",
   "metadata": {},
   "outputs": [
    {
     "name": "stdout",
     "output_type": "stream",
     "text": [
      "yhat:[1 1 1 1]\n"
     ]
    }
   ],
   "source": [
    "bias=1\n",
    "w1=0\n",
    "yhat=bias+w1*X\n",
    "print(f\"yhat:{yhat}\")"
   ]
  },
  {
   "cell_type": "code",
   "execution_count": 11,
   "id": "ff001bae-6833-4496-8299-3b6906e3f52e",
   "metadata": {},
   "outputs": [
    {
     "name": "stdout",
     "output_type": "stream",
     "text": [
      "error:[ 3  6  9 12]\n",
      "squared error:[  9  36  81 144]\n",
      "mean squared error:67.5\n"
     ]
    }
   ],
   "source": [
    "error=y-yhat\n",
    "print(f\"error:{error}\")\n",
    "squared_error=error**2\n",
    "print(f\"squared error:{squared_error}\")\n",
    "mse=(1/len(error))*np.sum(squared_error)\n",
    "print(f\"mean squared error:{mse}\")"
   ]
  },
  {
   "cell_type": "code",
   "execution_count": null,
   "id": "7fb41c18-fa18-46be-9c97-2d6f2ae84585",
   "metadata": {},
   "outputs": [],
   "source": []
  }
 ],
 "metadata": {
  "kernelspec": {
   "display_name": "Python 3 (ipykernel)",
   "language": "python",
   "name": "python3"
  },
  "language_info": {
   "codemirror_mode": {
    "name": "ipython",
    "version": 3
   },
   "file_extension": ".py",
   "mimetype": "text/x-python",
   "name": "python",
   "nbconvert_exporter": "python",
   "pygments_lexer": "ipython3",
   "version": "3.11.6"
  }
 },
 "nbformat": 4,
 "nbformat_minor": 5
}
