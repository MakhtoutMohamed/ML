{
 "cells": [
  {
   "cell_type": "code",
   "execution_count": 41,
   "id": "7622a093-66ec-47f5-a534-248fe3b91311",
   "metadata": {},
   "outputs": [],
   "source": [
    "import numpy as np\n",
    "import matplotlib.pyplot as plt\n",
    "from tensorflow.keras.datasets import mnist\n",
    "import tensorflow as tf\n",
    "from tensorflow.keras import models\n",
    "from tensorflow.keras.layers import Dense,Flatten"
   ]
  },
  {
   "cell_type": "code",
   "execution_count": 42,
   "id": "fb8d3187-33c0-43b3-9678-ee4ce826c022",
   "metadata": {},
   "outputs": [],
   "source": [
    "(train_images, train_labels), (test_images, test_labels) = mnist.load_data()\n",
    "\n",
    "train_images=train_images/255.0\n",
    "test_images=test_images/255.0"
   ]
  },
  {
   "cell_type": "code",
   "execution_count": 43,
   "id": "eb0fdfcc-6f8d-4ea8-9e56-94585d8cfb9a",
   "metadata": {},
   "outputs": [
    {
     "data": {
      "text/plain": [
       "(60000, 28, 28)"
      ]
     },
     "execution_count": 43,
     "metadata": {},
     "output_type": "execute_result"
    }
   ],
   "source": [
    "train_images.shape"
   ]
  },
  {
   "cell_type": "code",
   "execution_count": 44,
   "id": "b1b2f747-b9bb-4d88-98e2-55dc5c6fe977",
   "metadata": {},
   "outputs": [
    {
     "data": {
      "text/plain": [
       "(28, 28)"
      ]
     },
     "execution_count": 44,
     "metadata": {},
     "output_type": "execute_result"
    }
   ],
   "source": [
    "train_images[1].shape"
   ]
  },
  {
   "cell_type": "code",
   "execution_count": 45,
   "id": "fe71cfb0-7029-4ae3-b958-cb2dd3f8b1d8",
   "metadata": {},
   "outputs": [
    {
     "data": {
      "text/plain": [
       "<matplotlib.image.AxesImage at 0x7f30d4947fd0>"
      ]
     },
     "execution_count": 45,
     "metadata": {},
     "output_type": "execute_result"
    },
    {
     "data": {
      "image/png": "[encoded data removed]",
      "text/plain": [
       "<Figure size 640x480 with 1 Axes>"
      ]
     },
     "metadata": {},
     "output_type": "display_data"
    }
   ],
   "source": [
    "plt.grid(False)\n",
    "plt.imshow(train_images[1], cmap=plt.cm.binary)"
   ]
  },
  {
   "cell_type": "code",
   "execution_count": 46,
   "id": "5ee8e2a7-d745-4bbe-bdec-8b37a6c9386e",
   "metadata": {},
   "outputs": [
    {
     "name": "stdout",
     "output_type": "stream",
     "text": [
      "Epoch 1/5\n",
      "1875/1875 [==============================] - 2s 874us/step - loss: 0.4416 - accuracy: 0.8720\n",
      "Epoch 2/5\n",
      "1875/1875 [==============================] - 2s 898us/step - loss: 0.2253 - accuracy: 0.9337\n",
      "Epoch 3/5\n",
      "1875/1875 [==============================] - 2s 864us/step - loss: 0.1883 - accuracy: 0.9446\n",
      "Epoch 4/5\n",
      "1875/1875 [==============================] - 2s 904us/step - loss: 0.1625 - accuracy: 0.9523\n",
      "Epoch 5/5\n",
      "1875/1875 [==============================] - 2s 885us/step - loss: 0.1458 - accuracy: 0.9578\n"
     ]
    },
    {
     "data": {
      "text/plain": [
       "<keras.callbacks.History at 0x7f306461a4d0>"
      ]
     },
     "execution_count": 46,
     "metadata": {},
     "output_type": "execute_result"
    }
   ],
   "source": [
    "model=models.Sequential()\n",
    "\n",
    "model.add(Flatten(input_shape=(28, 28)))\n",
    "model.add(Dense(20, activation='relu'))\n",
    "model.add(Dense(15, activation='relu'))\n",
    "\n",
    "model.add(Dense(10, activation='softmax'))\n",
    "\n",
    "model.compile(optimizer='adam',\n",
    "             loss='sparse_categorical_crossentropy', metrics=['accuracy'])\n",
    "model.fit(train_images, train_labels, epochs=5)"
   ]
  },
  {
   "cell_type": "code",
   "execution_count": 56,
   "id": "6103684b-d04a-4b98-8df9-a63acb20854e",
   "metadata": {},
   "outputs": [
    {
     "name": "stdout",
     "output_type": "stream",
     "text": [
      "Model: \"sequential_10\"\n",
      "_________________________________________________________________\n",
      " Layer (type)                Output Shape              Param #   \n",
      "=================================================================\n",
      " flatten_4 (Flatten)         (None, 784)               0         \n",
      "                                                                 \n",
      " dense_12 (Dense)            (None, 20)                15700     \n",
      "                                                                 \n",
      " dense_13 (Dense)            (None, 15)                315       \n",
      "                                                                 \n",
      " dense_14 (Dense)            (None, 10)                160       \n",
      "                                                                 \n",
      "=================================================================\n",
      "Total params: 16,175\n",
      "Trainable params: 16,175\n",
      "Non-trainable params: 0\n",
      "_________________________________________________________________\n"
     ]
    }
   ],
   "source": [
    "model.summary()"
   ]
  },
  {
   "cell_type": "code",
   "execution_count": 47,
   "id": "4e05428a-5cb9-4685-9456-03ed0ddc0e1e",
   "metadata": {},
   "outputs": [
    {
     "data": {
      "text/plain": [
       "(10000, 28, 28)"
      ]
     },
     "execution_count": 47,
     "metadata": {},
     "output_type": "execute_result"
    }
   ],
   "source": [
    "test_images.shape"
   ]
  },
  {
   "cell_type": "code",
   "execution_count": 52,
   "id": "d44dddd2-06b8-41cd-b335-098be1d878d1",
   "metadata": {},
   "outputs": [
    {
     "name": "stdout",
     "output_type": "stream",
     "text": [
      "313/313 [==============================] - 0s 601us/step\n"
     ]
    },
    {
     "data": {
      "text/plain": [
       "array([[8.29750570e-05, 1.98934913e-09, 1.92210521e-03, ...,\n",
       "        9.96805727e-01, 1.16240801e-04, 2.07663688e-05],\n",
       "       [5.66430799e-07, 1.04777109e-06, 9.99987781e-01, ...,\n",
       "        2.26300523e-11, 3.89623622e-08, 1.03616697e-17],\n",
       "       [1.42280760e-05, 9.85986829e-01, 8.73104483e-03, ...,\n",
       "        2.12314771e-03, 9.31300689e-04, 2.56430176e-05],\n",
       "       ...,\n",
       "       [7.31257366e-09, 8.00725763e-10, 2.94766323e-07, ...,\n",
       "        1.17358300e-04, 1.58398718e-04, 2.11671856e-03],\n",
       "       [1.45405750e-07, 1.65959664e-05, 3.90349645e-12, ...,\n",
       "        1.17469732e-07, 7.95367450e-05, 2.69562079e-05],\n",
       "       [4.28684507e-06, 6.53996779e-12, 1.09585835e-05, ...,\n",
       "        6.22427621e-09, 2.64109758e-07, 6.77886973e-14]], dtype=float32)"
      ]
     },
     "execution_count": 52,
     "metadata": {},
     "output_type": "execute_result"
    }
   ],
   "source": [
    "model.predict(test_images)"
   ]
  },
  {
   "cell_type": "code",
   "execution_count": 55,
   "id": "9ca2a6ce-4d9f-49b4-b96c-fa2e6f75ec46",
   "metadata": {},
   "outputs": [
    {
     "data": {
      "text/plain": [
       "<matplotlib.image.AxesImage at 0x7f304c56af50>"
      ]
     },
     "execution_count": 55,
     "metadata": {},
     "output_type": "execute_result"
    },
    {
     "data": {
      "image/png": "[encoded data removed]",
      "text/plain": [
       "<Figure size 640x480 with 1 Axes>"
      ]
     },
     "metadata": {},
     "output_type": "display_data"
    }
   ],
   "source": [
    "plt.grid(False)\n",
    "plt.imshow(test_images[99], cmap=plt.cm.binary)"
   ]
  },
  {
   "cell_type": "code",
   "execution_count": null,
   "id": "0e7d9801-fb91-422f-9142-029e085908df",
   "metadata": {},
   "outputs": [],
   "source": []
  }
 ],
 "metadata": {
  "kernelspec": {
   "display_name": "Python 3 (ipykernel)",
   "language": "python",
   "name": "python3"
  },
  "language_info": {
   "codemirror_mode": {
    "name": "ipython",
    "version": 3
   },
   "file_extension": ".py",
   "mimetype": "text/x-python",
   "name": "python",
   "nbconvert_exporter": "python",
   "pygments_lexer": "ipython3",
   "version": "3.11.6"
  }
 },
 "nbformat": 4,
 "nbformat_minor": 5
}
